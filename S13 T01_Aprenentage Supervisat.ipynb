{
 "cells": [
  {
   "cell_type": "markdown",
   "metadata": {},
   "source": [
    "\n",
    "<div class=\"alert alert-block alert-info\"><font size=\"5\"><center><b><u> Sprint 13. Aprenentatge Supervisat - Classificació\n",
    "\\begin{align*}Marc\\:Breysse\\end{align*}"
   ]
  },
  {
   "cell_type": "markdown",
   "metadata": {},
   "source": [
    "<span style=color:blue>L'objectiu és familiaritzar-nos amb els algoritmes d'aprenentage no supervisats de Classificació</span>\n",
    "\n",
    "<span style=color:blue>*Arbres de classificació*</span>\n",
    "\n",
    "<span style=color:blue>*KNN - k-Nearest Neighbors*</span>\n",
    "\n",
    "<span style=color:blue>*Regressió Logística*</span>\n",
    "\n",
    "<span style=color:blue>*Support Vector Machine*</span>\n",
    "\n",
    "<span style=color:blue>*XGboost*</span>"
   ]
  },
  {
   "cell_type": "markdown",
   "metadata": {},
   "source": [
    "# <span style=color:darkblue>Nivell 1</span>"
   ]
  },
  {
   "cell_type": "markdown",
   "metadata": {},
   "source": [
    "<u style=color:blue>Exercici 1:</u>\n",
    "\n",
    "<span style=color:blue>Crea almenys tres models de classificació diferents per intentar predir el millor possible l’endarreriment dels vols (ArrDelay) de DelayedFlights.csv. Considera si el vol ha arribat tard o no (ArrDelay > 0).</span>"
   ]
  },
  {
   "cell_type": "code",
   "execution_count": 1,
   "metadata": {
    "ExecuteTime": {
     "end_time": "2021-06-05T08:28:26.481994Z",
     "start_time": "2021-06-05T08:28:22.673983Z"
    }
   },
   "outputs": [],
   "source": [
    "import os\n",
    "import pandas as pd\n",
    "import numpy as np\n",
    "\n",
    "import matplotlib.pyplot as plt\n",
    "import seaborn as sns\n",
    "%matplotlib inline\n",
    "\n",
    "from sklearn.model_selection import train_test_split # Import train_test_split function\n",
    "\n",
    "import warnings\n",
    "warnings.filterwarnings('ignore')"
   ]
  },
  {
   "cell_type": "code",
   "execution_count": 2,
   "metadata": {
    "ExecuteTime": {
     "end_time": "2021-06-05T08:28:30.844695Z",
     "start_time": "2021-06-05T08:28:26.481994Z"
    }
   },
   "outputs": [
    {
     "data": {
      "text/plain": [
       "(1928371, 14)"
      ]
     },
     "execution_count": 2,
     "metadata": {},
     "output_type": "execute_result"
    }
   ],
   "source": [
    "# Dataset saved in Sprint11\n",
    "DF = pd.read_csv('DelayedFlightsCleaned.csv')\n",
    "DF.shape"
   ]
  },
  {
   "cell_type": "code",
   "execution_count": 3,
   "metadata": {
    "ExecuteTime": {
     "end_time": "2021-06-05T08:28:32.382710Z",
     "start_time": "2021-06-05T08:28:30.850803Z"
    },
    "scrolled": true
   },
   "outputs": [
    {
     "data": {
      "text/plain": [
       "Unnamed: 0           1928371\n",
       "DayOfWeek                  7\n",
       "CRSDepTime              1193\n",
       "CRSArrTime              1361\n",
       "ActualElapsedTime        673\n",
       "CRSElapsedTime           500\n",
       "ArrDelay                1128\n",
       "DepDelay                1053\n",
       "TaxiIn                   180\n",
       "TaxiOut                  332\n",
       "UniqueCarrier             20\n",
       "Origin                   303\n",
       "Dest                     302\n",
       "Date                     366\n",
       "dtype: int64"
      ]
     },
     "execution_count": 3,
     "metadata": {},
     "output_type": "execute_result"
    }
   ],
   "source": [
    "DF.nunique()"
   ]
  },
  {
   "cell_type": "code",
   "execution_count": 4,
   "metadata": {
    "ExecuteTime": {
     "end_time": "2021-06-05T08:28:32.744505Z",
     "start_time": "2021-06-05T08:28:32.388708Z"
    }
   },
   "outputs": [
    {
     "data": {
      "text/plain": [
       "(100000, 14)"
      ]
     },
     "execution_count": 4,
     "metadata": {},
     "output_type": "execute_result"
    }
   ],
   "source": [
    "# to reduce cumputation time, we will reduce dataset to 100.000 samples\n",
    "DF = DF.sample(n=100000, random_state=1)\n",
    "DF.shape"
   ]
  },
  {
   "cell_type": "code",
   "execution_count": 5,
   "metadata": {
    "ExecuteTime": {
     "end_time": "2021-06-05T08:28:33.150944Z",
     "start_time": "2021-06-05T08:28:33.025018Z"
    },
    "scrolled": false
   },
   "outputs": [
    {
     "data": {
      "text/plain": [
       "Unnamed: 0           100000\n",
       "DayOfWeek                 7\n",
       "CRSDepTime             1118\n",
       "CRSArrTime             1283\n",
       "ActualElapsedTime       512\n",
       "CRSElapsedTime          454\n",
       "ArrDelay                583\n",
       "DepDelay                529\n",
       "TaxiIn                   99\n",
       "TaxiOut                 197\n",
       "UniqueCarrier            20\n",
       "Origin                  293\n",
       "Dest                    296\n",
       "Date                    366\n",
       "dtype: int64"
      ]
     },
     "execution_count": 5,
     "metadata": {},
     "output_type": "execute_result"
    }
   ],
   "source": [
    "DF.nunique()"
   ]
  },
  {
   "cell_type": "markdown",
   "metadata": {},
   "source": [
    "<span style=color:green>*With downsizing dataset to 100.000 rows, numbers of 'Origin' airports is reduced from 303 to 293*</span>"
   ]
  },
  {
   "cell_type": "code",
   "execution_count": 6,
   "metadata": {
    "ExecuteTime": {
     "end_time": "2021-06-05T08:28:34.086322Z",
     "start_time": "2021-06-05T08:28:34.066339Z"
    },
    "scrolled": true
   },
   "outputs": [
    {
     "data": {
      "text/plain": [
       "Index(['Unnamed: 0', 'DayOfWeek', 'CRSDepTime', 'CRSArrTime',\n",
       "       'ActualElapsedTime', 'CRSElapsedTime', 'ArrDelay', 'DepDelay', 'TaxiIn',\n",
       "       'TaxiOut', 'UniqueCarrier', 'Origin', 'Dest', 'Date'],\n",
       "      dtype='object')"
      ]
     },
     "execution_count": 6,
     "metadata": {},
     "output_type": "execute_result"
    }
   ],
   "source": [
    "DF.columns"
   ]
  },
  {
   "cell_type": "markdown",
   "metadata": {},
   "source": [
    "<span style=color:green>In fisrt place, We will predict the Arrival Delay based numerical variables 'CRS Departure Time', 'CRS Arrival Time', 'Departure Delay','DayOfWeek' and categorical variables 'Uniquecarrier' and 'Departure Airport'.*</span>"
   ]
  },
  {
   "cell_type": "code",
   "execution_count": 7,
   "metadata": {
    "ExecuteTime": {
     "end_time": "2021-06-05T08:28:35.551046Z",
     "start_time": "2021-06-05T08:28:35.524057Z"
    }
   },
   "outputs": [],
   "source": [
    "# In this sprint, we will predict Arrival Delay based numerical variables 'CRS Departure Time', 'CRS Arrival Time', 'Departure Delay','DayOfWeek' and categorical variables 'Uniquecarrier' and 'Departure Airport'.\n",
    "DF.drop(['Date','Unnamed: 0','CRSElapsedTime','ActualElapsedTime','TaxiIn',\n",
    "       'TaxiOut','Dest'], axis='columns', inplace=True)"
   ]
  },
  {
   "cell_type": "code",
   "execution_count": 8,
   "metadata": {
    "ExecuteTime": {
     "end_time": "2021-06-05T08:28:36.219834Z",
     "start_time": "2021-06-05T08:28:36.198826Z"
    },
    "scrolled": false
   },
   "outputs": [
    {
     "data": {
      "text/plain": [
       "Index(['DayOfWeek', 'CRSDepTime', 'CRSArrTime', 'ArrDelay', 'DepDelay',\n",
       "       'UniqueCarrier', 'Origin'],\n",
       "      dtype='object')"
      ]
     },
     "execution_count": 8,
     "metadata": {},
     "output_type": "execute_result"
    }
   ],
   "source": [
    "DF.columns"
   ]
  },
  {
   "cell_type": "code",
   "execution_count": 9,
   "metadata": {
    "ExecuteTime": {
     "end_time": "2021-06-05T08:28:36.924868Z",
     "start_time": "2021-06-05T08:28:36.887869Z"
    },
    "scrolled": true
   },
   "outputs": [
    {
     "data": {
      "text/html": [
       "<div>\n",
       "<style scoped>\n",
       "    .dataframe tbody tr th:only-of-type {\n",
       "        vertical-align: middle;\n",
       "    }\n",
       "\n",
       "    .dataframe tbody tr th {\n",
       "        vertical-align: top;\n",
       "    }\n",
       "\n",
       "    .dataframe thead th {\n",
       "        text-align: right;\n",
       "    }\n",
       "</style>\n",
       "<table border=\"1\" class=\"dataframe\">\n",
       "  <thead>\n",
       "    <tr style=\"text-align: right;\">\n",
       "      <th></th>\n",
       "      <th>DayOfWeek</th>\n",
       "      <th>CRSDepTime</th>\n",
       "      <th>CRSArrTime</th>\n",
       "      <th>ArrDelay</th>\n",
       "      <th>DepDelay</th>\n",
       "      <th>UniqueCarrier</th>\n",
       "      <th>Origin</th>\n",
       "    </tr>\n",
       "  </thead>\n",
       "  <tbody>\n",
       "    <tr>\n",
       "      <th>942808</th>\n",
       "      <td>6</td>\n",
       "      <td>642</td>\n",
       "      <td>734</td>\n",
       "      <td>43.0</td>\n",
       "      <td>39.0</td>\n",
       "      <td>OO</td>\n",
       "      <td>TUS</td>\n",
       "    </tr>\n",
       "    <tr>\n",
       "      <th>1484347</th>\n",
       "      <td>1</td>\n",
       "      <td>1115</td>\n",
       "      <td>1185</td>\n",
       "      <td>1.0</td>\n",
       "      <td>9.0</td>\n",
       "      <td>MQ</td>\n",
       "      <td>MAF</td>\n",
       "    </tr>\n",
       "    <tr>\n",
       "      <th>1566787</th>\n",
       "      <td>6</td>\n",
       "      <td>975</td>\n",
       "      <td>1037</td>\n",
       "      <td>-1.0</td>\n",
       "      <td>9.0</td>\n",
       "      <td>US</td>\n",
       "      <td>CLT</td>\n",
       "    </tr>\n",
       "    <tr>\n",
       "      <th>1256237</th>\n",
       "      <td>2</td>\n",
       "      <td>1040</td>\n",
       "      <td>1160</td>\n",
       "      <td>57.0</td>\n",
       "      <td>28.0</td>\n",
       "      <td>DL</td>\n",
       "      <td>ATL</td>\n",
       "    </tr>\n",
       "    <tr>\n",
       "      <th>651063</th>\n",
       "      <td>5</td>\n",
       "      <td>1000</td>\n",
       "      <td>1037</td>\n",
       "      <td>8.0</td>\n",
       "      <td>13.0</td>\n",
       "      <td>EV</td>\n",
       "      <td>CVG</td>\n",
       "    </tr>\n",
       "  </tbody>\n",
       "</table>\n",
       "</div>"
      ],
      "text/plain": [
       "         DayOfWeek  CRSDepTime  CRSArrTime  ArrDelay  DepDelay UniqueCarrier  \\\n",
       "942808           6         642         734      43.0      39.0            OO   \n",
       "1484347          1        1115        1185       1.0       9.0            MQ   \n",
       "1566787          6         975        1037      -1.0       9.0            US   \n",
       "1256237          2        1040        1160      57.0      28.0            DL   \n",
       "651063           5        1000        1037       8.0      13.0            EV   \n",
       "\n",
       "        Origin  \n",
       "942808     TUS  \n",
       "1484347    MAF  \n",
       "1566787    CLT  \n",
       "1256237    ATL  \n",
       "651063     CVG  "
      ]
     },
     "execution_count": 9,
     "metadata": {},
     "output_type": "execute_result"
    }
   ],
   "source": [
    "DF.head()"
   ]
  },
  {
   "cell_type": "markdown",
   "metadata": {
    "ExecuteTime": {
     "end_time": "2021-06-01T10:12:57.373383Z",
     "start_time": "2021-06-01T10:12:57.365395Z"
    }
   },
   "source": [
    "<span style=color:green>New variable according to flight delay occurence  (ArrDelay > 0)</span>"
   ]
  },
  {
   "cell_type": "code",
   "execution_count": 10,
   "metadata": {
    "ExecuteTime": {
     "end_time": "2021-06-05T08:28:38.148075Z",
     "start_time": "2021-06-05T08:28:38.082107Z"
    },
    "scrolled": false
   },
   "outputs": [
    {
     "data": {
      "text/html": [
       "<div>\n",
       "<style scoped>\n",
       "    .dataframe tbody tr th:only-of-type {\n",
       "        vertical-align: middle;\n",
       "    }\n",
       "\n",
       "    .dataframe tbody tr th {\n",
       "        vertical-align: top;\n",
       "    }\n",
       "\n",
       "    .dataframe thead th {\n",
       "        text-align: right;\n",
       "    }\n",
       "</style>\n",
       "<table border=\"1\" class=\"dataframe\">\n",
       "  <thead>\n",
       "    <tr style=\"text-align: right;\">\n",
       "      <th></th>\n",
       "      <th>DayOfWeek</th>\n",
       "      <th>CRSDepTime</th>\n",
       "      <th>CRSArrTime</th>\n",
       "      <th>ArrDelay</th>\n",
       "      <th>DepDelay</th>\n",
       "      <th>UniqueCarrier</th>\n",
       "      <th>Origin</th>\n",
       "      <th>LateArr</th>\n",
       "    </tr>\n",
       "  </thead>\n",
       "  <tbody>\n",
       "    <tr>\n",
       "      <th>942808</th>\n",
       "      <td>6</td>\n",
       "      <td>642</td>\n",
       "      <td>734</td>\n",
       "      <td>43.0</td>\n",
       "      <td>39.0</td>\n",
       "      <td>OO</td>\n",
       "      <td>TUS</td>\n",
       "      <td>1</td>\n",
       "    </tr>\n",
       "    <tr>\n",
       "      <th>1484347</th>\n",
       "      <td>1</td>\n",
       "      <td>1115</td>\n",
       "      <td>1185</td>\n",
       "      <td>1.0</td>\n",
       "      <td>9.0</td>\n",
       "      <td>MQ</td>\n",
       "      <td>MAF</td>\n",
       "      <td>1</td>\n",
       "    </tr>\n",
       "    <tr>\n",
       "      <th>1566787</th>\n",
       "      <td>6</td>\n",
       "      <td>975</td>\n",
       "      <td>1037</td>\n",
       "      <td>-1.0</td>\n",
       "      <td>9.0</td>\n",
       "      <td>US</td>\n",
       "      <td>CLT</td>\n",
       "      <td>0</td>\n",
       "    </tr>\n",
       "    <tr>\n",
       "      <th>1256237</th>\n",
       "      <td>2</td>\n",
       "      <td>1040</td>\n",
       "      <td>1160</td>\n",
       "      <td>57.0</td>\n",
       "      <td>28.0</td>\n",
       "      <td>DL</td>\n",
       "      <td>ATL</td>\n",
       "      <td>1</td>\n",
       "    </tr>\n",
       "    <tr>\n",
       "      <th>651063</th>\n",
       "      <td>5</td>\n",
       "      <td>1000</td>\n",
       "      <td>1037</td>\n",
       "      <td>8.0</td>\n",
       "      <td>13.0</td>\n",
       "      <td>EV</td>\n",
       "      <td>CVG</td>\n",
       "      <td>1</td>\n",
       "    </tr>\n",
       "  </tbody>\n",
       "</table>\n",
       "</div>"
      ],
      "text/plain": [
       "         DayOfWeek  CRSDepTime  CRSArrTime  ArrDelay  DepDelay UniqueCarrier  \\\n",
       "942808           6         642         734      43.0      39.0            OO   \n",
       "1484347          1        1115        1185       1.0       9.0            MQ   \n",
       "1566787          6         975        1037      -1.0       9.0            US   \n",
       "1256237          2        1040        1160      57.0      28.0            DL   \n",
       "651063           5        1000        1037       8.0      13.0            EV   \n",
       "\n",
       "        Origin LateArr  \n",
       "942808     TUS       1  \n",
       "1484347    MAF       1  \n",
       "1566787    CLT       0  \n",
       "1256237    ATL       1  \n",
       "651063     CVG       1  "
      ]
     },
     "execution_count": 10,
     "metadata": {},
     "output_type": "execute_result"
    }
   ],
   "source": [
    "DF['LateArr'] = np.where(DF['ArrDelay'] > 0, '1', '0')\n",
    "DF.head()"
   ]
  },
  {
   "cell_type": "markdown",
   "metadata": {
    "ExecuteTime": {
     "end_time": "2021-06-01T10:12:57.373383Z",
     "start_time": "2021-06-01T10:12:57.365395Z"
    }
   },
   "source": [
    "<span style=color:green>Encoding categorical variables 'UniqueCarrier', 'Origin', 'Dest'</span>"
   ]
  },
  {
   "cell_type": "code",
   "execution_count": 11,
   "metadata": {
    "ExecuteTime": {
     "end_time": "2021-06-05T08:28:39.957664Z",
     "start_time": "2021-06-05T08:28:39.531999Z"
    },
    "scrolled": true
   },
   "outputs": [
    {
     "data": {
      "text/plain": [
       "(100000, 317)"
      ]
     },
     "execution_count": 11,
     "metadata": {},
     "output_type": "execute_result"
    }
   ],
   "source": [
    "#X_train - Encoding categorical variables 'UniqueCarrier', 'Origin'\n",
    "\n",
    "# Create dummy variables\n",
    "dummy_UniqueCarrier_type = pd.get_dummies(DF['UniqueCarrier'], prefix='UniqueCarrier', drop_first=True)\n",
    "dummy_Origin_type = pd.get_dummies(DF['Origin'], prefix='Origin', drop_first=True)\n",
    "\n",
    "# Drop unnecessary columns\n",
    "to_drop = ['UniqueCarrier','Origin']\n",
    "DF.drop(to_drop, axis=1, inplace=True)\n",
    "\n",
    "# Merge into a single data frame\n",
    "DF = pd.concat([DF, dummy_UniqueCarrier_type, dummy_Origin_type], axis=1)\n",
    "DF.shape"
   ]
  },
  {
   "cell_type": "code",
   "execution_count": 12,
   "metadata": {
    "ExecuteTime": {
     "end_time": "2021-06-05T08:28:40.766977Z",
     "start_time": "2021-06-05T08:28:40.716986Z"
    },
    "scrolled": false
   },
   "outputs": [
    {
     "data": {
      "text/html": [
       "<div>\n",
       "<style scoped>\n",
       "    .dataframe tbody tr th:only-of-type {\n",
       "        vertical-align: middle;\n",
       "    }\n",
       "\n",
       "    .dataframe tbody tr th {\n",
       "        vertical-align: top;\n",
       "    }\n",
       "\n",
       "    .dataframe thead th {\n",
       "        text-align: right;\n",
       "    }\n",
       "</style>\n",
       "<table border=\"1\" class=\"dataframe\">\n",
       "  <thead>\n",
       "    <tr style=\"text-align: right;\">\n",
       "      <th></th>\n",
       "      <th>DayOfWeek</th>\n",
       "      <th>CRSDepTime</th>\n",
       "      <th>CRSArrTime</th>\n",
       "      <th>ArrDelay</th>\n",
       "      <th>DepDelay</th>\n",
       "      <th>LateArr</th>\n",
       "      <th>UniqueCarrier_AA</th>\n",
       "      <th>UniqueCarrier_AQ</th>\n",
       "      <th>UniqueCarrier_AS</th>\n",
       "      <th>UniqueCarrier_B6</th>\n",
       "      <th>...</th>\n",
       "      <th>Origin_TYR</th>\n",
       "      <th>Origin_TYS</th>\n",
       "      <th>Origin_VLD</th>\n",
       "      <th>Origin_VPS</th>\n",
       "      <th>Origin_WRG</th>\n",
       "      <th>Origin_WYS</th>\n",
       "      <th>Origin_XNA</th>\n",
       "      <th>Origin_YAK</th>\n",
       "      <th>Origin_YKM</th>\n",
       "      <th>Origin_YUM</th>\n",
       "    </tr>\n",
       "  </thead>\n",
       "  <tbody>\n",
       "    <tr>\n",
       "      <th>942808</th>\n",
       "      <td>6</td>\n",
       "      <td>642</td>\n",
       "      <td>734</td>\n",
       "      <td>43.0</td>\n",
       "      <td>39.0</td>\n",
       "      <td>1</td>\n",
       "      <td>0</td>\n",
       "      <td>0</td>\n",
       "      <td>0</td>\n",
       "      <td>0</td>\n",
       "      <td>...</td>\n",
       "      <td>0</td>\n",
       "      <td>0</td>\n",
       "      <td>0</td>\n",
       "      <td>0</td>\n",
       "      <td>0</td>\n",
       "      <td>0</td>\n",
       "      <td>0</td>\n",
       "      <td>0</td>\n",
       "      <td>0</td>\n",
       "      <td>0</td>\n",
       "    </tr>\n",
       "    <tr>\n",
       "      <th>1484347</th>\n",
       "      <td>1</td>\n",
       "      <td>1115</td>\n",
       "      <td>1185</td>\n",
       "      <td>1.0</td>\n",
       "      <td>9.0</td>\n",
       "      <td>1</td>\n",
       "      <td>0</td>\n",
       "      <td>0</td>\n",
       "      <td>0</td>\n",
       "      <td>0</td>\n",
       "      <td>...</td>\n",
       "      <td>0</td>\n",
       "      <td>0</td>\n",
       "      <td>0</td>\n",
       "      <td>0</td>\n",
       "      <td>0</td>\n",
       "      <td>0</td>\n",
       "      <td>0</td>\n",
       "      <td>0</td>\n",
       "      <td>0</td>\n",
       "      <td>0</td>\n",
       "    </tr>\n",
       "    <tr>\n",
       "      <th>1566787</th>\n",
       "      <td>6</td>\n",
       "      <td>975</td>\n",
       "      <td>1037</td>\n",
       "      <td>-1.0</td>\n",
       "      <td>9.0</td>\n",
       "      <td>0</td>\n",
       "      <td>0</td>\n",
       "      <td>0</td>\n",
       "      <td>0</td>\n",
       "      <td>0</td>\n",
       "      <td>...</td>\n",
       "      <td>0</td>\n",
       "      <td>0</td>\n",
       "      <td>0</td>\n",
       "      <td>0</td>\n",
       "      <td>0</td>\n",
       "      <td>0</td>\n",
       "      <td>0</td>\n",
       "      <td>0</td>\n",
       "      <td>0</td>\n",
       "      <td>0</td>\n",
       "    </tr>\n",
       "    <tr>\n",
       "      <th>1256237</th>\n",
       "      <td>2</td>\n",
       "      <td>1040</td>\n",
       "      <td>1160</td>\n",
       "      <td>57.0</td>\n",
       "      <td>28.0</td>\n",
       "      <td>1</td>\n",
       "      <td>0</td>\n",
       "      <td>0</td>\n",
       "      <td>0</td>\n",
       "      <td>0</td>\n",
       "      <td>...</td>\n",
       "      <td>0</td>\n",
       "      <td>0</td>\n",
       "      <td>0</td>\n",
       "      <td>0</td>\n",
       "      <td>0</td>\n",
       "      <td>0</td>\n",
       "      <td>0</td>\n",
       "      <td>0</td>\n",
       "      <td>0</td>\n",
       "      <td>0</td>\n",
       "    </tr>\n",
       "    <tr>\n",
       "      <th>651063</th>\n",
       "      <td>5</td>\n",
       "      <td>1000</td>\n",
       "      <td>1037</td>\n",
       "      <td>8.0</td>\n",
       "      <td>13.0</td>\n",
       "      <td>1</td>\n",
       "      <td>0</td>\n",
       "      <td>0</td>\n",
       "      <td>0</td>\n",
       "      <td>0</td>\n",
       "      <td>...</td>\n",
       "      <td>0</td>\n",
       "      <td>0</td>\n",
       "      <td>0</td>\n",
       "      <td>0</td>\n",
       "      <td>0</td>\n",
       "      <td>0</td>\n",
       "      <td>0</td>\n",
       "      <td>0</td>\n",
       "      <td>0</td>\n",
       "      <td>0</td>\n",
       "    </tr>\n",
       "  </tbody>\n",
       "</table>\n",
       "<p>5 rows × 317 columns</p>\n",
       "</div>"
      ],
      "text/plain": [
       "         DayOfWeek  CRSDepTime  CRSArrTime  ArrDelay  DepDelay LateArr  \\\n",
       "942808           6         642         734      43.0      39.0       1   \n",
       "1484347          1        1115        1185       1.0       9.0       1   \n",
       "1566787          6         975        1037      -1.0       9.0       0   \n",
       "1256237          2        1040        1160      57.0      28.0       1   \n",
       "651063           5        1000        1037       8.0      13.0       1   \n",
       "\n",
       "         UniqueCarrier_AA  UniqueCarrier_AQ  UniqueCarrier_AS  \\\n",
       "942808                  0                 0                 0   \n",
       "1484347                 0                 0                 0   \n",
       "1566787                 0                 0                 0   \n",
       "1256237                 0                 0                 0   \n",
       "651063                  0                 0                 0   \n",
       "\n",
       "         UniqueCarrier_B6  ...  Origin_TYR  Origin_TYS  Origin_VLD  \\\n",
       "942808                  0  ...           0           0           0   \n",
       "1484347                 0  ...           0           0           0   \n",
       "1566787                 0  ...           0           0           0   \n",
       "1256237                 0  ...           0           0           0   \n",
       "651063                  0  ...           0           0           0   \n",
       "\n",
       "         Origin_VPS  Origin_WRG  Origin_WYS  Origin_XNA  Origin_YAK  \\\n",
       "942808            0           0           0           0           0   \n",
       "1484347           0           0           0           0           0   \n",
       "1566787           0           0           0           0           0   \n",
       "1256237           0           0           0           0           0   \n",
       "651063            0           0           0           0           0   \n",
       "\n",
       "         Origin_YKM  Origin_YUM  \n",
       "942808            0           0  \n",
       "1484347           0           0  \n",
       "1566787           0           0  \n",
       "1256237           0           0  \n",
       "651063            0           0  \n",
       "\n",
       "[5 rows x 317 columns]"
      ]
     },
     "execution_count": 12,
     "metadata": {},
     "output_type": "execute_result"
    }
   ],
   "source": [
    "DF.head()"
   ]
  },
  {
   "cell_type": "markdown",
   "metadata": {},
   "source": [
    "<span style=color:green>Feature Selection</span>"
   ]
  },
  {
   "cell_type": "code",
   "execution_count": 13,
   "metadata": {
    "ExecuteTime": {
     "end_time": "2021-06-05T08:28:43.480708Z",
     "start_time": "2021-06-05T08:28:43.357780Z"
    },
    "scrolled": true
   },
   "outputs": [
    {
     "name": "stdout",
     "output_type": "stream",
     "text": [
      "(100000, 315) (100000,)\n"
     ]
    }
   ],
   "source": [
    "X, y = DF.drop(['LateArr','ArrDelay'],axis=1), DF.LateArr\n",
    "print(X.shape, y.shape)"
   ]
  },
  {
   "cell_type": "code",
   "execution_count": 14,
   "metadata": {
    "ExecuteTime": {
     "end_time": "2021-06-05T08:28:44.432910Z",
     "start_time": "2021-06-05T08:28:44.379942Z"
    },
    "scrolled": true
   },
   "outputs": [
    {
     "data": {
      "text/html": [
       "<div>\n",
       "<style scoped>\n",
       "    .dataframe tbody tr th:only-of-type {\n",
       "        vertical-align: middle;\n",
       "    }\n",
       "\n",
       "    .dataframe tbody tr th {\n",
       "        vertical-align: top;\n",
       "    }\n",
       "\n",
       "    .dataframe thead th {\n",
       "        text-align: right;\n",
       "    }\n",
       "</style>\n",
       "<table border=\"1\" class=\"dataframe\">\n",
       "  <thead>\n",
       "    <tr style=\"text-align: right;\">\n",
       "      <th></th>\n",
       "      <th>DayOfWeek</th>\n",
       "      <th>CRSDepTime</th>\n",
       "      <th>CRSArrTime</th>\n",
       "      <th>DepDelay</th>\n",
       "      <th>UniqueCarrier_AA</th>\n",
       "      <th>UniqueCarrier_AQ</th>\n",
       "      <th>UniqueCarrier_AS</th>\n",
       "      <th>UniqueCarrier_B6</th>\n",
       "      <th>UniqueCarrier_CO</th>\n",
       "      <th>UniqueCarrier_DL</th>\n",
       "      <th>...</th>\n",
       "      <th>Origin_TYR</th>\n",
       "      <th>Origin_TYS</th>\n",
       "      <th>Origin_VLD</th>\n",
       "      <th>Origin_VPS</th>\n",
       "      <th>Origin_WRG</th>\n",
       "      <th>Origin_WYS</th>\n",
       "      <th>Origin_XNA</th>\n",
       "      <th>Origin_YAK</th>\n",
       "      <th>Origin_YKM</th>\n",
       "      <th>Origin_YUM</th>\n",
       "    </tr>\n",
       "  </thead>\n",
       "  <tbody>\n",
       "    <tr>\n",
       "      <th>942808</th>\n",
       "      <td>6</td>\n",
       "      <td>642</td>\n",
       "      <td>734</td>\n",
       "      <td>39.0</td>\n",
       "      <td>0</td>\n",
       "      <td>0</td>\n",
       "      <td>0</td>\n",
       "      <td>0</td>\n",
       "      <td>0</td>\n",
       "      <td>0</td>\n",
       "      <td>...</td>\n",
       "      <td>0</td>\n",
       "      <td>0</td>\n",
       "      <td>0</td>\n",
       "      <td>0</td>\n",
       "      <td>0</td>\n",
       "      <td>0</td>\n",
       "      <td>0</td>\n",
       "      <td>0</td>\n",
       "      <td>0</td>\n",
       "      <td>0</td>\n",
       "    </tr>\n",
       "    <tr>\n",
       "      <th>1484347</th>\n",
       "      <td>1</td>\n",
       "      <td>1115</td>\n",
       "      <td>1185</td>\n",
       "      <td>9.0</td>\n",
       "      <td>0</td>\n",
       "      <td>0</td>\n",
       "      <td>0</td>\n",
       "      <td>0</td>\n",
       "      <td>0</td>\n",
       "      <td>0</td>\n",
       "      <td>...</td>\n",
       "      <td>0</td>\n",
       "      <td>0</td>\n",
       "      <td>0</td>\n",
       "      <td>0</td>\n",
       "      <td>0</td>\n",
       "      <td>0</td>\n",
       "      <td>0</td>\n",
       "      <td>0</td>\n",
       "      <td>0</td>\n",
       "      <td>0</td>\n",
       "    </tr>\n",
       "    <tr>\n",
       "      <th>1566787</th>\n",
       "      <td>6</td>\n",
       "      <td>975</td>\n",
       "      <td>1037</td>\n",
       "      <td>9.0</td>\n",
       "      <td>0</td>\n",
       "      <td>0</td>\n",
       "      <td>0</td>\n",
       "      <td>0</td>\n",
       "      <td>0</td>\n",
       "      <td>0</td>\n",
       "      <td>...</td>\n",
       "      <td>0</td>\n",
       "      <td>0</td>\n",
       "      <td>0</td>\n",
       "      <td>0</td>\n",
       "      <td>0</td>\n",
       "      <td>0</td>\n",
       "      <td>0</td>\n",
       "      <td>0</td>\n",
       "      <td>0</td>\n",
       "      <td>0</td>\n",
       "    </tr>\n",
       "    <tr>\n",
       "      <th>1256237</th>\n",
       "      <td>2</td>\n",
       "      <td>1040</td>\n",
       "      <td>1160</td>\n",
       "      <td>28.0</td>\n",
       "      <td>0</td>\n",
       "      <td>0</td>\n",
       "      <td>0</td>\n",
       "      <td>0</td>\n",
       "      <td>0</td>\n",
       "      <td>1</td>\n",
       "      <td>...</td>\n",
       "      <td>0</td>\n",
       "      <td>0</td>\n",
       "      <td>0</td>\n",
       "      <td>0</td>\n",
       "      <td>0</td>\n",
       "      <td>0</td>\n",
       "      <td>0</td>\n",
       "      <td>0</td>\n",
       "      <td>0</td>\n",
       "      <td>0</td>\n",
       "    </tr>\n",
       "    <tr>\n",
       "      <th>651063</th>\n",
       "      <td>5</td>\n",
       "      <td>1000</td>\n",
       "      <td>1037</td>\n",
       "      <td>13.0</td>\n",
       "      <td>0</td>\n",
       "      <td>0</td>\n",
       "      <td>0</td>\n",
       "      <td>0</td>\n",
       "      <td>0</td>\n",
       "      <td>0</td>\n",
       "      <td>...</td>\n",
       "      <td>0</td>\n",
       "      <td>0</td>\n",
       "      <td>0</td>\n",
       "      <td>0</td>\n",
       "      <td>0</td>\n",
       "      <td>0</td>\n",
       "      <td>0</td>\n",
       "      <td>0</td>\n",
       "      <td>0</td>\n",
       "      <td>0</td>\n",
       "    </tr>\n",
       "  </tbody>\n",
       "</table>\n",
       "<p>5 rows × 315 columns</p>\n",
       "</div>"
      ],
      "text/plain": [
       "         DayOfWeek  CRSDepTime  CRSArrTime  DepDelay  UniqueCarrier_AA  \\\n",
       "942808           6         642         734      39.0                 0   \n",
       "1484347          1        1115        1185       9.0                 0   \n",
       "1566787          6         975        1037       9.0                 0   \n",
       "1256237          2        1040        1160      28.0                 0   \n",
       "651063           5        1000        1037      13.0                 0   \n",
       "\n",
       "         UniqueCarrier_AQ  UniqueCarrier_AS  UniqueCarrier_B6  \\\n",
       "942808                  0                 0                 0   \n",
       "1484347                 0                 0                 0   \n",
       "1566787                 0                 0                 0   \n",
       "1256237                 0                 0                 0   \n",
       "651063                  0                 0                 0   \n",
       "\n",
       "         UniqueCarrier_CO  UniqueCarrier_DL  ...  Origin_TYR  Origin_TYS  \\\n",
       "942808                  0                 0  ...           0           0   \n",
       "1484347                 0                 0  ...           0           0   \n",
       "1566787                 0                 0  ...           0           0   \n",
       "1256237                 0                 1  ...           0           0   \n",
       "651063                  0                 0  ...           0           0   \n",
       "\n",
       "         Origin_VLD  Origin_VPS  Origin_WRG  Origin_WYS  Origin_XNA  \\\n",
       "942808            0           0           0           0           0   \n",
       "1484347           0           0           0           0           0   \n",
       "1566787           0           0           0           0           0   \n",
       "1256237           0           0           0           0           0   \n",
       "651063            0           0           0           0           0   \n",
       "\n",
       "         Origin_YAK  Origin_YKM  Origin_YUM  \n",
       "942808            0           0           0  \n",
       "1484347           0           0           0  \n",
       "1566787           0           0           0  \n",
       "1256237           0           0           0  \n",
       "651063            0           0           0  \n",
       "\n",
       "[5 rows x 315 columns]"
      ]
     },
     "execution_count": 14,
     "metadata": {},
     "output_type": "execute_result"
    }
   ],
   "source": [
    "X.head()"
   ]
  },
  {
   "cell_type": "markdown",
   "metadata": {},
   "source": [
    "<span style=color:green>Train-test split</span>"
   ]
  },
  {
   "cell_type": "code",
   "execution_count": 15,
   "metadata": {
    "ExecuteTime": {
     "end_time": "2021-06-05T08:28:46.159702Z",
     "start_time": "2021-06-05T08:28:45.775015Z"
    }
   },
   "outputs": [],
   "source": [
    "X_train, X_test, y_train, y_test = train_test_split(X, y, test_size=0.1, random_state=0)"
   ]
  },
  {
   "cell_type": "code",
   "execution_count": 16,
   "metadata": {
    "ExecuteTime": {
     "end_time": "2021-06-05T08:28:46.918992Z",
     "start_time": "2021-06-05T08:28:46.902998Z"
    }
   },
   "outputs": [
    {
     "data": {
      "text/plain": [
       "((90000, 315), (10000, 315), (90000,), (10000,))"
      ]
     },
     "execution_count": 16,
     "metadata": {},
     "output_type": "execute_result"
    }
   ],
   "source": [
    "X_train.shape, X_test.shape, y_train.shape, y_test.shape"
   ]
  },
  {
   "cell_type": "markdown",
   "metadata": {},
   "source": [
    "<span style=color:green>Standardize numerical variables</span>"
   ]
  },
  {
   "cell_type": "code",
   "execution_count": 17,
   "metadata": {
    "ExecuteTime": {
     "end_time": "2021-06-05T08:28:49.070597Z",
     "start_time": "2021-06-05T08:28:48.869813Z"
    }
   },
   "outputs": [],
   "source": [
    "from sklearn.preprocessing import StandardScaler\n",
    "\n",
    "# Scale selected columns by index\n",
    "# Set up scaler\n",
    "scaler = StandardScaler().fit(X_train.iloc[:,:4])\n",
    "X_train.iloc[:,:4] = scaler.transform(X_train.iloc[:,:4])\n",
    "X_train.head()\n",
    "#  Scale X_Test data\n",
    "X_test.iloc[:,:4] = scaler.transform(X_test.iloc[:,:4])"
   ]
  },
  {
   "cell_type": "code",
   "execution_count": 18,
   "metadata": {
    "ExecuteTime": {
     "end_time": "2021-06-05T08:28:50.945962Z",
     "start_time": "2021-06-05T08:28:50.885992Z"
    },
    "scrolled": false
   },
   "outputs": [
    {
     "data": {
      "text/html": [
       "<div>\n",
       "<style scoped>\n",
       "    .dataframe tbody tr th:only-of-type {\n",
       "        vertical-align: middle;\n",
       "    }\n",
       "\n",
       "    .dataframe tbody tr th {\n",
       "        vertical-align: top;\n",
       "    }\n",
       "\n",
       "    .dataframe thead th {\n",
       "        text-align: right;\n",
       "    }\n",
       "</style>\n",
       "<table border=\"1\" class=\"dataframe\">\n",
       "  <thead>\n",
       "    <tr style=\"text-align: right;\">\n",
       "      <th></th>\n",
       "      <th>DayOfWeek</th>\n",
       "      <th>CRSDepTime</th>\n",
       "      <th>CRSArrTime</th>\n",
       "      <th>DepDelay</th>\n",
       "      <th>UniqueCarrier_AA</th>\n",
       "      <th>UniqueCarrier_AQ</th>\n",
       "      <th>UniqueCarrier_AS</th>\n",
       "      <th>UniqueCarrier_B6</th>\n",
       "      <th>UniqueCarrier_CO</th>\n",
       "      <th>UniqueCarrier_DL</th>\n",
       "      <th>...</th>\n",
       "      <th>Origin_TYR</th>\n",
       "      <th>Origin_TYS</th>\n",
       "      <th>Origin_VLD</th>\n",
       "      <th>Origin_VPS</th>\n",
       "      <th>Origin_WRG</th>\n",
       "      <th>Origin_WYS</th>\n",
       "      <th>Origin_XNA</th>\n",
       "      <th>Origin_YAK</th>\n",
       "      <th>Origin_YKM</th>\n",
       "      <th>Origin_YUM</th>\n",
       "    </tr>\n",
       "  </thead>\n",
       "  <tbody>\n",
       "    <tr>\n",
       "      <th>288500</th>\n",
       "      <td>-0.991092</td>\n",
       "      <td>-0.935857</td>\n",
       "      <td>-1.017833</td>\n",
       "      <td>0.596940</td>\n",
       "      <td>0</td>\n",
       "      <td>0</td>\n",
       "      <td>0</td>\n",
       "      <td>0</td>\n",
       "      <td>0</td>\n",
       "      <td>0</td>\n",
       "      <td>...</td>\n",
       "      <td>0</td>\n",
       "      <td>0</td>\n",
       "      <td>0</td>\n",
       "      <td>0</td>\n",
       "      <td>0</td>\n",
       "      <td>0</td>\n",
       "      <td>0</td>\n",
       "      <td>0</td>\n",
       "      <td>0</td>\n",
       "      <td>0</td>\n",
       "    </tr>\n",
       "    <tr>\n",
       "      <th>223838</th>\n",
       "      <td>-0.991092</td>\n",
       "      <td>0.952647</td>\n",
       "      <td>1.204786</td>\n",
       "      <td>-0.630251</td>\n",
       "      <td>0</td>\n",
       "      <td>0</td>\n",
       "      <td>0</td>\n",
       "      <td>0</td>\n",
       "      <td>0</td>\n",
       "      <td>0</td>\n",
       "      <td>...</td>\n",
       "      <td>0</td>\n",
       "      <td>0</td>\n",
       "      <td>0</td>\n",
       "      <td>0</td>\n",
       "      <td>0</td>\n",
       "      <td>0</td>\n",
       "      <td>0</td>\n",
       "      <td>0</td>\n",
       "      <td>0</td>\n",
       "      <td>0</td>\n",
       "    </tr>\n",
       "    <tr>\n",
       "      <th>340842</th>\n",
       "      <td>-0.490678</td>\n",
       "      <td>-1.569268</td>\n",
       "      <td>-1.579752</td>\n",
       "      <td>-0.099079</td>\n",
       "      <td>1</td>\n",
       "      <td>0</td>\n",
       "      <td>0</td>\n",
       "      <td>0</td>\n",
       "      <td>0</td>\n",
       "      <td>0</td>\n",
       "      <td>...</td>\n",
       "      <td>0</td>\n",
       "      <td>0</td>\n",
       "      <td>0</td>\n",
       "      <td>0</td>\n",
       "      <td>0</td>\n",
       "      <td>0</td>\n",
       "      <td>0</td>\n",
       "      <td>0</td>\n",
       "      <td>0</td>\n",
       "      <td>0</td>\n",
       "    </tr>\n",
       "    <tr>\n",
       "      <th>502626</th>\n",
       "      <td>0.510150</td>\n",
       "      <td>0.503003</td>\n",
       "      <td>0.299274</td>\n",
       "      <td>-0.190660</td>\n",
       "      <td>0</td>\n",
       "      <td>0</td>\n",
       "      <td>0</td>\n",
       "      <td>0</td>\n",
       "      <td>0</td>\n",
       "      <td>0</td>\n",
       "      <td>...</td>\n",
       "      <td>0</td>\n",
       "      <td>0</td>\n",
       "      <td>0</td>\n",
       "      <td>0</td>\n",
       "      <td>0</td>\n",
       "      <td>0</td>\n",
       "      <td>0</td>\n",
       "      <td>0</td>\n",
       "      <td>0</td>\n",
       "      <td>0</td>\n",
       "    </tr>\n",
       "    <tr>\n",
       "      <th>336769</th>\n",
       "      <td>0.009736</td>\n",
       "      <td>0.678950</td>\n",
       "      <td>0.496125</td>\n",
       "      <td>-0.099079</td>\n",
       "      <td>1</td>\n",
       "      <td>0</td>\n",
       "      <td>0</td>\n",
       "      <td>0</td>\n",
       "      <td>0</td>\n",
       "      <td>0</td>\n",
       "      <td>...</td>\n",
       "      <td>0</td>\n",
       "      <td>0</td>\n",
       "      <td>0</td>\n",
       "      <td>0</td>\n",
       "      <td>0</td>\n",
       "      <td>0</td>\n",
       "      <td>0</td>\n",
       "      <td>0</td>\n",
       "      <td>0</td>\n",
       "      <td>0</td>\n",
       "    </tr>\n",
       "  </tbody>\n",
       "</table>\n",
       "<p>5 rows × 315 columns</p>\n",
       "</div>"
      ],
      "text/plain": [
       "        DayOfWeek  CRSDepTime  CRSArrTime  DepDelay  UniqueCarrier_AA  \\\n",
       "288500  -0.991092   -0.935857   -1.017833  0.596940                 0   \n",
       "223838  -0.991092    0.952647    1.204786 -0.630251                 0   \n",
       "340842  -0.490678   -1.569268   -1.579752 -0.099079                 1   \n",
       "502626   0.510150    0.503003    0.299274 -0.190660                 0   \n",
       "336769   0.009736    0.678950    0.496125 -0.099079                 1   \n",
       "\n",
       "        UniqueCarrier_AQ  UniqueCarrier_AS  UniqueCarrier_B6  \\\n",
       "288500                 0                 0                 0   \n",
       "223838                 0                 0                 0   \n",
       "340842                 0                 0                 0   \n",
       "502626                 0                 0                 0   \n",
       "336769                 0                 0                 0   \n",
       "\n",
       "        UniqueCarrier_CO  UniqueCarrier_DL  ...  Origin_TYR  Origin_TYS  \\\n",
       "288500                 0                 0  ...           0           0   \n",
       "223838                 0                 0  ...           0           0   \n",
       "340842                 0                 0  ...           0           0   \n",
       "502626                 0                 0  ...           0           0   \n",
       "336769                 0                 0  ...           0           0   \n",
       "\n",
       "        Origin_VLD  Origin_VPS  Origin_WRG  Origin_WYS  Origin_XNA  \\\n",
       "288500           0           0           0           0           0   \n",
       "223838           0           0           0           0           0   \n",
       "340842           0           0           0           0           0   \n",
       "502626           0           0           0           0           0   \n",
       "336769           0           0           0           0           0   \n",
       "\n",
       "        Origin_YAK  Origin_YKM  Origin_YUM  \n",
       "288500           0           0           0  \n",
       "223838           0           0           0  \n",
       "340842           0           0           0  \n",
       "502626           0           0           0  \n",
       "336769           0           0           0  \n",
       "\n",
       "[5 rows x 315 columns]"
      ]
     },
     "execution_count": 18,
     "metadata": {},
     "output_type": "execute_result"
    }
   ],
   "source": [
    "X_train.head()"
   ]
  },
  {
   "cell_type": "markdown",
   "metadata": {},
   "source": [
    "<span style=color:green><b>DECISION TREE MODEL</span>"
   ]
  },
  {
   "cell_type": "code",
   "execution_count": 19,
   "metadata": {
    "ExecuteTime": {
     "end_time": "2021-06-05T08:28:55.152529Z",
     "start_time": "2021-06-05T08:28:54.974039Z"
    }
   },
   "outputs": [],
   "source": [
    "from sklearn.tree import DecisionTreeClassifier # Import Decision Tree Classifier\n",
    "from sklearn import metrics #Import scikit-learn metrics module for accuracy calculation"
   ]
  },
  {
   "cell_type": "code",
   "execution_count": 20,
   "metadata": {
    "ExecuteTime": {
     "end_time": "2021-06-05T08:28:58.232050Z",
     "start_time": "2021-06-05T08:28:58.219039Z"
    }
   },
   "outputs": [],
   "source": [
    "# Create Decision Tree classifer object\n",
    "dtc = DecisionTreeClassifier()"
   ]
  },
  {
   "cell_type": "code",
   "execution_count": 21,
   "metadata": {
    "ExecuteTime": {
     "end_time": "2021-06-05T08:29:10.654760Z",
     "start_time": "2021-06-05T08:29:03.480910Z"
    }
   },
   "outputs": [],
   "source": [
    "# Train Decision Tree Classifier\n",
    "model_dtc = dtc.fit(X_train,y_train)"
   ]
  },
  {
   "cell_type": "code",
   "execution_count": 22,
   "metadata": {
    "ExecuteTime": {
     "end_time": "2021-06-05T08:29:10.732308Z",
     "start_time": "2021-06-05T08:29:10.654760Z"
    }
   },
   "outputs": [],
   "source": [
    "#Predict the response for test dataset\n",
    "y_pred_dtc = model_dtc.predict(X_test)"
   ]
  },
  {
   "cell_type": "code",
   "execution_count": 23,
   "metadata": {
    "ExecuteTime": {
     "end_time": "2021-06-05T08:29:10.872183Z",
     "start_time": "2021-06-05T08:29:10.732308Z"
    }
   },
   "outputs": [
    {
     "name": "stdout",
     "output_type": "stream",
     "text": [
      "Accuracy Decision Tree: 0.8566\n"
     ]
    }
   ],
   "source": [
    "# Model Accuracy, how often is the classifier correct?\n",
    "print(\"Accuracy Decision Tree:\",metrics.accuracy_score(y_test, y_pred_dtc))"
   ]
  },
  {
   "cell_type": "code",
   "execution_count": 24,
   "metadata": {
    "ExecuteTime": {
     "end_time": "2021-06-05T08:29:17.008824Z",
     "start_time": "2021-06-05T08:29:16.971825Z"
    }
   },
   "outputs": [
    {
     "data": {
      "text/html": [
       "<div>\n",
       "<style scoped>\n",
       "    .dataframe tbody tr th:only-of-type {\n",
       "        vertical-align: middle;\n",
       "    }\n",
       "\n",
       "    .dataframe tbody tr th {\n",
       "        vertical-align: top;\n",
       "    }\n",
       "\n",
       "    .dataframe thead th {\n",
       "        text-align: right;\n",
       "    }\n",
       "</style>\n",
       "<table border=\"1\" class=\"dataframe\">\n",
       "  <thead>\n",
       "    <tr style=\"text-align: right;\">\n",
       "      <th></th>\n",
       "      <th>Actual</th>\n",
       "      <th>Predicted</th>\n",
       "    </tr>\n",
       "  </thead>\n",
       "  <tbody>\n",
       "    <tr>\n",
       "      <th>1836560</th>\n",
       "      <td>1</td>\n",
       "      <td>1</td>\n",
       "    </tr>\n",
       "    <tr>\n",
       "      <th>1245353</th>\n",
       "      <td>1</td>\n",
       "      <td>0</td>\n",
       "    </tr>\n",
       "    <tr>\n",
       "      <th>781760</th>\n",
       "      <td>1</td>\n",
       "      <td>1</td>\n",
       "    </tr>\n",
       "    <tr>\n",
       "      <th>752384</th>\n",
       "      <td>1</td>\n",
       "      <td>1</td>\n",
       "    </tr>\n",
       "    <tr>\n",
       "      <th>403535</th>\n",
       "      <td>0</td>\n",
       "      <td>1</td>\n",
       "    </tr>\n",
       "    <tr>\n",
       "      <th>...</th>\n",
       "      <td>...</td>\n",
       "      <td>...</td>\n",
       "    </tr>\n",
       "    <tr>\n",
       "      <th>1500981</th>\n",
       "      <td>1</td>\n",
       "      <td>1</td>\n",
       "    </tr>\n",
       "    <tr>\n",
       "      <th>788561</th>\n",
       "      <td>1</td>\n",
       "      <td>1</td>\n",
       "    </tr>\n",
       "    <tr>\n",
       "      <th>1886128</th>\n",
       "      <td>1</td>\n",
       "      <td>1</td>\n",
       "    </tr>\n",
       "    <tr>\n",
       "      <th>626274</th>\n",
       "      <td>0</td>\n",
       "      <td>0</td>\n",
       "    </tr>\n",
       "    <tr>\n",
       "      <th>530922</th>\n",
       "      <td>1</td>\n",
       "      <td>1</td>\n",
       "    </tr>\n",
       "  </tbody>\n",
       "</table>\n",
       "<p>10000 rows × 2 columns</p>\n",
       "</div>"
      ],
      "text/plain": [
       "        Actual Predicted\n",
       "1836560      1         1\n",
       "1245353      1         0\n",
       "781760       1         1\n",
       "752384       1         1\n",
       "403535       0         1\n",
       "...        ...       ...\n",
       "1500981      1         1\n",
       "788561       1         1\n",
       "1886128      1         1\n",
       "626274       0         0\n",
       "530922       1         1\n",
       "\n",
       "[10000 rows x 2 columns]"
      ]
     },
     "execution_count": 24,
     "metadata": {},
     "output_type": "execute_result"
    }
   ],
   "source": [
    "df_y_pred_dtc = pd.DataFrame({'Actual': y_test, 'Predicted': y_pred_dtc})\n",
    "df_y_pred_dtc"
   ]
  },
  {
   "cell_type": "markdown",
   "metadata": {},
   "source": [
    "<span style=color:green><b>LOGISTIC REGRESSION</span>"
   ]
  },
  {
   "cell_type": "code",
   "execution_count": 25,
   "metadata": {
    "ExecuteTime": {
     "end_time": "2021-06-05T08:29:36.210442Z",
     "start_time": "2021-06-05T08:29:29.321981Z"
    }
   },
   "outputs": [],
   "source": [
    "# import the class\n",
    "from sklearn.linear_model import LogisticRegression\n",
    "\n",
    "logreg = LogisticRegression()\n",
    "model_logreg = logreg.fit(X_train,y_train)\n",
    "\n",
    "# Prediction\n",
    "y_pred_logreg = model_logreg.predict(X_test)"
   ]
  },
  {
   "cell_type": "code",
   "execution_count": 26,
   "metadata": {
    "ExecuteTime": {
     "end_time": "2021-06-05T08:29:36.271198Z",
     "start_time": "2021-06-05T08:29:36.210442Z"
    }
   },
   "outputs": [
    {
     "name": "stdout",
     "output_type": "stream",
     "text": [
      "Accuracy Logistic regression: 0.8952\n"
     ]
    }
   ],
   "source": [
    "print(\"Accuracy Logistic regression:\",metrics.accuracy_score(y_test, y_pred_logreg))"
   ]
  },
  {
   "cell_type": "code",
   "execution_count": 27,
   "metadata": {
    "ExecuteTime": {
     "end_time": "2021-06-05T08:29:38.650020Z",
     "start_time": "2021-06-05T08:29:38.549070Z"
    }
   },
   "outputs": [
    {
     "data": {
      "text/plain": [
       "array([[  79,  959],\n",
       "       [  89, 8873]], dtype=int64)"
      ]
     },
     "execution_count": 27,
     "metadata": {},
     "output_type": "execute_result"
    }
   ],
   "source": [
    "# confusion matrix\n",
    "from sklearn import metrics\n",
    "cnf_matrix = metrics.confusion_matrix(y_test, y_pred_logreg)\n",
    "cnf_matrix"
   ]
  },
  {
   "cell_type": "code",
   "execution_count": 28,
   "metadata": {
    "ExecuteTime": {
     "end_time": "2021-06-05T08:29:44.698103Z",
     "start_time": "2021-06-05T08:29:44.082974Z"
    }
   },
   "outputs": [
    {
     "data": {
      "text/plain": [
       "Text(0.5, 257.44, 'Predicted label')"
      ]
     },
     "execution_count": 28,
     "metadata": {},
     "output_type": "execute_result"
    },
    {
     "data": {
      "image/png": "[encoded data removed]",
      "text/plain": [
       "<Figure size 432x288 with 2 Axes>"
      ]
     },
     "metadata": {
      "needs_background": "light"
     },
     "output_type": "display_data"
    }
   ],
   "source": [
    "#Visualizing Confusion Matrix using Heatmap\n",
    "\n",
    "# import required modules\n",
    "import numpy as np\n",
    "import matplotlib.pyplot as plt\n",
    "import seaborn as sns\n",
    "%matplotlib inline\n",
    "\n",
    "class_names=[0,1] # name  of classes\n",
    "fig, ax = plt.subplots()\n",
    "tick_marks = np.arange(len(class_names))\n",
    "plt.xticks(tick_marks, class_names)\n",
    "plt.yticks(tick_marks, class_names)\n",
    "# create heatmap\n",
    "sns.heatmap(pd.DataFrame(cnf_matrix), annot=True, cmap=\"YlGnBu\" ,fmt='g')\n",
    "ax.xaxis.set_label_position(\"top\")\n",
    "plt.tight_layout()\n",
    "plt.title('Confusion matrix', y=1.1)\n",
    "plt.ylabel('Actual label')\n",
    "plt.xlabel('Predicted label')"
   ]
  },
  {
   "cell_type": "markdown",
   "metadata": {},
   "source": [
    "<span style=color:green><b>K-nearest neighbors (KNN)</span>"
   ]
  },
  {
   "cell_type": "code",
   "execution_count": 29,
   "metadata": {
    "ExecuteTime": {
     "end_time": "2021-06-05T08:30:36.477555Z",
     "start_time": "2021-06-05T08:29:47.148025Z"
    }
   },
   "outputs": [],
   "source": [
    "from sklearn.neighbors import KNeighborsClassifier\n",
    "\n",
    "knn = KNeighborsClassifier(n_neighbors=5)\n",
    "model_knn = knn.fit(X_train, y_train)\n",
    "\n",
    "# Prediction\n",
    "y_pred_knn = model_knn.predict(X_test)"
   ]
  },
  {
   "cell_type": "code",
   "execution_count": 30,
   "metadata": {
    "ExecuteTime": {
     "end_time": "2021-06-05T08:30:36.559915Z",
     "start_time": "2021-06-05T08:30:36.477555Z"
    }
   },
   "outputs": [
    {
     "name": "stdout",
     "output_type": "stream",
     "text": [
      "Accuracy K-nearest: 0.8842\n"
     ]
    }
   ],
   "source": [
    "print(\"Accuracy K-nearest:\",metrics.accuracy_score(y_test, y_pred_knn))"
   ]
  },
  {
   "cell_type": "code",
   "execution_count": null,
   "metadata": {},
   "outputs": [],
   "source": []
  },
  {
   "cell_type": "markdown",
   "metadata": {},
   "source": [
    "<u style=color:blue>Exercici 2:</u>\n",
    "\n",
    "<span style=color:blue>Compara els models de classificació utilitzant la precisió (accuracy), una matriu de confiança i d’altres mètriques més avançades..</span>"
   ]
  },
  {
   "cell_type": "markdown",
   "metadata": {},
   "source": [
    "<span style=color:green><b>Accuracy</span>"
   ]
  },
  {
   "cell_type": "code",
   "execution_count": 31,
   "metadata": {
    "ExecuteTime": {
     "end_time": "2021-06-05T08:30:40.660378Z",
     "start_time": "2021-06-05T08:30:40.529913Z"
    }
   },
   "outputs": [
    {
     "name": "stdout",
     "output_type": "stream",
     "text": [
      "Decision Tree_Accuracy: 0.8566\n",
      "Logistic regression_Accuracy: 0.8952\n",
      "K-nearest_Accuracy: 0.8842\n"
     ]
    }
   ],
   "source": [
    "print(\"Decision Tree_Accuracy:\",metrics.accuracy_score(y_test, y_pred_dtc))\n",
    "print(\"Logistic regression_Accuracy:\",metrics.accuracy_score(y_test, y_pred_logreg))\n",
    "print(\"K-nearest_Accuracy:\",metrics.accuracy_score(y_test, y_pred_knn))"
   ]
  },
  {
   "cell_type": "markdown",
   "metadata": {},
   "source": [
    "<span style=color:green><b>Confusion matrix</span>"
   ]
  },
  {
   "cell_type": "code",
   "execution_count": null,
   "metadata": {
    "ExecuteTime": {
     "end_time": "2021-06-05T07:54:21.620884Z",
     "start_time": "2021-06-05T07:54:21.504817Z"
    }
   },
   "outputs": [],
   "source": [
    "# Decision Tree\n",
    "cnf_matrix = metrics.confusion_matrix(y_test, y_pred_dtc)\n",
    "cnf_matrix"
   ]
  },
  {
   "cell_type": "code",
   "execution_count": null,
   "metadata": {
    "ExecuteTime": {
     "end_time": "2021-06-05T07:54:22.283595Z",
     "start_time": "2021-06-05T07:54:22.149672Z"
    }
   },
   "outputs": [],
   "source": [
    "# Logistic regression\n",
    "cnf_matrix = metrics.confusion_matrix(y_test, y_pred_logreg)\n",
    "cnf_matrix"
   ]
  },
  {
   "cell_type": "code",
   "execution_count": null,
   "metadata": {
    "ExecuteTime": {
     "end_time": "2021-06-05T07:54:22.866193Z",
     "start_time": "2021-06-05T07:54:22.768250Z"
    }
   },
   "outputs": [],
   "source": [
    "# K-nearest neighbors\n",
    "cnf_matrix = metrics.confusion_matrix(y_test, y_pred_knn)\n",
    "cnf_matrix"
   ]
  },
  {
   "cell_type": "markdown",
   "metadata": {},
   "source": [
    "<span style=color:green><b>Classification accuracy</span>"
   ]
  },
  {
   "cell_type": "code",
   "execution_count": null,
   "metadata": {
    "ExecuteTime": {
     "end_time": "2021-06-05T07:54:24.558088Z",
     "start_time": "2021-06-05T07:54:23.991855Z"
    }
   },
   "outputs": [],
   "source": [
    "from sklearn.metrics import classification_report\n",
    "print(classification_report(y_test, y_pred_dtc))"
   ]
  },
  {
   "cell_type": "code",
   "execution_count": null,
   "metadata": {
    "ExecuteTime": {
     "end_time": "2021-06-05T07:54:25.232529Z",
     "start_time": "2021-06-05T07:54:24.645646Z"
    }
   },
   "outputs": [],
   "source": [
    "print(classification_report(y_test, y_pred_logreg))"
   ]
  },
  {
   "cell_type": "code",
   "execution_count": null,
   "metadata": {
    "ExecuteTime": {
     "end_time": "2021-06-05T07:54:26.055311Z",
     "start_time": "2021-06-05T07:54:25.471278Z"
    }
   },
   "outputs": [],
   "source": [
    "print(classification_report(y_test, y_pred_knn))"
   ]
  },
  {
   "cell_type": "markdown",
   "metadata": {},
   "source": [
    "<u style=color:blue>Exercici 3:</u>\n",
    "\n",
    "<span style=color:blue>Entrena’ls utilitzant els diferents paràmetres que admeten.</span>"
   ]
  },
  {
   "cell_type": "markdown",
   "metadata": {},
   "source": [
    "<span style=color:green><b>Decision Tree tuning</span>"
   ]
  },
  {
   "cell_type": "code",
   "execution_count": null,
   "metadata": {
    "ExecuteTime": {
     "end_time": "2021-06-05T07:54:30.183839Z",
     "start_time": "2021-06-05T07:54:30.163830Z"
    }
   },
   "outputs": [],
   "source": [
    "from pprint import pprint\n",
    "# Look at parameters used by our current forest\n",
    "print('Parameters currently in use in rf model:\\n')\n",
    "pprint(dtc.get_params())"
   ]
  },
  {
   "cell_type": "code",
   "execution_count": null,
   "metadata": {
    "ExecuteTime": {
     "end_time": "2021-06-05T07:54:33.449806Z",
     "start_time": "2021-06-05T07:54:33.441793Z"
    }
   },
   "outputs": [],
   "source": [
    "param_grid = { \n",
    "    'max_depth': [2 , 4, 6, 8],\n",
    "    'criterion': ['gini','entropy']\n",
    "}"
   ]
  },
  {
   "cell_type": "code",
   "execution_count": null,
   "metadata": {
    "ExecuteTime": {
     "end_time": "2021-06-05T07:56:05.292886Z",
     "start_time": "2021-06-05T07:54:35.875789Z"
    }
   },
   "outputs": [],
   "source": [
    "from sklearn.model_selection import GridSearchCV\n",
    "\n",
    "CV_dtc = GridSearchCV(estimator=dtc, param_grid=param_grid, cv= 5)\n",
    "CV_dtc.fit(X_train, y_train)"
   ]
  },
  {
   "cell_type": "code",
   "execution_count": null,
   "metadata": {
    "ExecuteTime": {
     "end_time": "2021-06-05T07:59:31.078113Z",
     "start_time": "2021-06-05T07:59:31.059103Z"
    }
   },
   "outputs": [],
   "source": [
    "CV_dtc.best_params_"
   ]
  },
  {
   "cell_type": "code",
   "execution_count": null,
   "metadata": {
    "ExecuteTime": {
     "end_time": "2021-06-05T07:59:35.281260Z",
     "start_time": "2021-06-05T07:59:33.410853Z"
    }
   },
   "outputs": [],
   "source": [
    "dtc1 = DecisionTreeClassifier(criterion=\"gini\", max_depth=4)\n",
    "model_dtc1 = dtc1.fit(X_train,y_train)"
   ]
  },
  {
   "cell_type": "code",
   "execution_count": null,
   "metadata": {
    "ExecuteTime": {
     "end_time": "2021-06-05T07:59:36.024770Z",
     "start_time": "2021-06-05T07:59:35.912837Z"
    }
   },
   "outputs": [],
   "source": [
    "#Predict the response for test dataset\n",
    "y_pred_dtc1 = model_dtc1.predict(X_test)\n",
    "\n",
    "# Model Accuracy, how often is the classifier correct?\n",
    "print(\"Accuracy:\",metrics.accuracy_score(y_test, y_pred_dtc1))"
   ]
  },
  {
   "cell_type": "markdown",
   "metadata": {},
   "source": [
    "<span style=color:green>*Accuracy is improved from 85.6% to 89.5% with decision tree model*<span>"
   ]
  },
  {
   "cell_type": "markdown",
   "metadata": {},
   "source": [
    "<span style=color:green><b>LOGISTIC REGRESSION tuning </span>"
   ]
  },
  {
   "cell_type": "code",
   "execution_count": null,
   "metadata": {
    "ExecuteTime": {
     "end_time": "2021-06-05T08:31:02.448987Z",
     "start_time": "2021-06-05T08:31:02.426997Z"
    }
   },
   "outputs": [],
   "source": [
    "from pprint import pprint\n",
    "# Look at parameters used by our current forest\n",
    "print('Parameters currently in use in rf model:\\n')\n",
    "pprint(logreg.get_params())"
   ]
  },
  {
   "cell_type": "code",
   "execution_count": null,
   "metadata": {
    "ExecuteTime": {
     "end_time": "2021-06-05T09:24:54.043804Z",
     "start_time": "2021-06-05T09:24:54.031808Z"
    }
   },
   "outputs": [],
   "source": [
    "param_grid = { \n",
    "    'C': [0.01, 0.1, 1, 10, 100]\n",
    "}"
   ]
  },
  {
   "cell_type": "code",
   "execution_count": null,
   "metadata": {
    "ExecuteTime": {
     "end_time": "2021-06-05T09:37:28.093628Z",
     "start_time": "2021-06-05T09:25:08.580290Z"
    }
   },
   "outputs": [],
   "source": [
    "from sklearn.model_selection import GridSearchCV\n",
    "\n",
    "CV_logreg = GridSearchCV(estimator=logreg, param_grid=param_grid, cv= 5)\n",
    "CV_logreg.fit(X_train, y_train)"
   ]
  },
  {
   "cell_type": "code",
   "execution_count": null,
   "metadata": {
    "ExecuteTime": {
     "end_time": "2021-06-05T09:37:28.124630Z",
     "start_time": "2021-06-05T09:37:28.093628Z"
    }
   },
   "outputs": [],
   "source": [
    "CV_logreg.best_params_"
   ]
  },
  {
   "cell_type": "code",
   "execution_count": null,
   "metadata": {
    "ExecuteTime": {
     "end_time": "2021-06-05T11:02:21.232049Z",
     "start_time": "2021-06-05T11:02:20.879945Z"
    }
   },
   "outputs": [],
   "source": [
    "logreg1 = LogisticRegression(C = 0.01)\n",
    "model_logreg1 = logreg1.fit(X_train,y_train)"
   ]
  },
  {
   "cell_type": "code",
   "execution_count": null,
   "metadata": {
    "ExecuteTime": {
     "end_time": "2021-06-05T11:03:15.055518Z",
     "start_time": "2021-06-05T11:02:22.123936Z"
    }
   },
   "outputs": [],
   "source": [
    "#Predict the response for test dataset\n",
    "y_pred_logreg1 = model_logreg1.predict(X_test)\n",
    "\n",
    "# Model Accuracy, how often is the classifier correct?\n",
    "print(\"Accuracy:\",metrics.accuracy_score(y_test, y_pred_logreg1))"
   ]
  },
  {
   "cell_type": "markdown",
   "metadata": {},
   "source": [
    "<span style=color:green>*Accuracy is very slightly improved from 89.5% to 89.6%*<span>"
   ]
  },
  {
   "cell_type": "markdown",
   "metadata": {},
   "source": [
    "<span style=color:green><b>K-nearest neighbors tuning</span>"
   ]
  },
  {
   "cell_type": "code",
   "execution_count": 32,
   "metadata": {
    "ExecuteTime": {
     "end_time": "2021-06-05T08:31:02.448987Z",
     "start_time": "2021-06-05T08:31:02.426997Z"
    }
   },
   "outputs": [
    {
     "name": "stdout",
     "output_type": "stream",
     "text": [
      "Parameters currently in use in rf model:\n",
      "\n",
      "{'algorithm': 'auto',\n",
      " 'leaf_size': 30,\n",
      " 'metric': 'minkowski',\n",
      " 'metric_params': None,\n",
      " 'n_jobs': None,\n",
      " 'n_neighbors': 5,\n",
      " 'p': 2,\n",
      " 'weights': 'uniform'}\n"
     ]
    }
   ],
   "source": [
    "from pprint import pprint\n",
    "# Look at parameters used by our current forest\n",
    "print('Parameters currently in use in rf model:\\n')\n",
    "pprint(knn.get_params())"
   ]
  },
  {
   "cell_type": "code",
   "execution_count": 36,
   "metadata": {
    "ExecuteTime": {
     "end_time": "2021-06-05T09:24:54.043804Z",
     "start_time": "2021-06-05T09:24:54.031808Z"
    }
   },
   "outputs": [],
   "source": [
    "param_grid = { \n",
    "    'n_neighbors': [5, 7]\n",
    "}"
   ]
  },
  {
   "cell_type": "code",
   "execution_count": 37,
   "metadata": {
    "ExecuteTime": {
     "end_time": "2021-06-05T09:37:28.093628Z",
     "start_time": "2021-06-05T09:25:08.580290Z"
    }
   },
   "outputs": [
    {
     "data": {
      "text/plain": [
       "GridSearchCV(cv=5, estimator=KNeighborsClassifier(),\n",
       "             param_grid={'n_neighbors': [5, 7]})"
      ]
     },
     "execution_count": 37,
     "metadata": {},
     "output_type": "execute_result"
    }
   ],
   "source": [
    "from sklearn.model_selection import GridSearchCV\n",
    "\n",
    "CV_knn = GridSearchCV(estimator=knn, param_grid=param_grid, cv= 5)\n",
    "CV_knn.fit(X_train, y_train)"
   ]
  },
  {
   "cell_type": "code",
   "execution_count": 38,
   "metadata": {
    "ExecuteTime": {
     "end_time": "2021-06-05T09:37:28.124630Z",
     "start_time": "2021-06-05T09:37:28.093628Z"
    }
   },
   "outputs": [
    {
     "data": {
      "text/plain": [
       "{'n_neighbors': 7}"
      ]
     },
     "execution_count": 38,
     "metadata": {},
     "output_type": "execute_result"
    }
   ],
   "source": [
    "CV_knn.best_params_"
   ]
  },
  {
   "cell_type": "code",
   "execution_count": 39,
   "metadata": {
    "ExecuteTime": {
     "end_time": "2021-06-05T11:02:21.232049Z",
     "start_time": "2021-06-05T11:02:20.879945Z"
    }
   },
   "outputs": [],
   "source": [
    "knn1 = KNeighborsClassifier(n_neighbors = 7)\n",
    "\n",
    "model_knn1 = knn1.fit(X_train,y_train)"
   ]
  },
  {
   "cell_type": "code",
   "execution_count": 40,
   "metadata": {
    "ExecuteTime": {
     "end_time": "2021-06-05T11:03:15.055518Z",
     "start_time": "2021-06-05T11:02:22.123936Z"
    }
   },
   "outputs": [
    {
     "name": "stdout",
     "output_type": "stream",
     "text": [
      "Accuracy: 0.8895\n"
     ]
    }
   ],
   "source": [
    "#Predict the response for test dataset\n",
    "y_pred_knn1 = model_knn1.predict(X_test)\n",
    "\n",
    "# Model Accuracy, how often is the classifier correct?\n",
    "print(\"Accuracy:\",metrics.accuracy_score(y_test, y_pred_knn1))"
   ]
  },
  {
   "cell_type": "markdown",
   "metadata": {},
   "source": [
    "<span style=color:green>*Accuracy is improved from 88.4% to 88.9%*<span>"
   ]
  },
  {
   "cell_type": "markdown",
   "metadata": {},
   "source": [
    "# <span style=color:darkblue>Nivell 2</span>"
   ]
  },
  {
   "cell_type": "markdown",
   "metadata": {},
   "source": [
    "<u style=color:blue>Exercici 5:</u>\n",
    "\n",
    "<span style=color:blue>Realitza algun procés d’enginyeria de variables per millorar-ne la predicció.<span>"
   ]
  },
  {
   "cell_type": "markdown",
   "metadata": {},
   "source": [
    "<span style=color:green>We will additionaly encode 'Destination Airport' for prediction which was not included until now</span>"
   ]
  },
  {
   "cell_type": "code",
   "execution_count": 41,
   "metadata": {
    "ExecuteTime": {
     "end_time": "2021-06-05T11:05:57.944729Z",
     "start_time": "2021-06-05T11:05:53.705402Z"
    }
   },
   "outputs": [
    {
     "data": {
      "text/plain": [
       "(1928371, 14)"
      ]
     },
     "execution_count": 41,
     "metadata": {},
     "output_type": "execute_result"
    }
   ],
   "source": [
    "DF = pd.read_csv('DelayedFlightsCleaned.csv')\n",
    "DF.shape"
   ]
  },
  {
   "cell_type": "code",
   "execution_count": 42,
   "metadata": {
    "ExecuteTime": {
     "end_time": "2021-06-05T11:05:58.372465Z",
     "start_time": "2021-06-05T11:05:57.950705Z"
    }
   },
   "outputs": [
    {
     "data": {
      "text/plain": [
       "(100000, 14)"
      ]
     },
     "execution_count": 42,
     "metadata": {},
     "output_type": "execute_result"
    }
   ],
   "source": [
    "DF = DF.sample(n=100000, random_state=1)\n",
    "DF.shape"
   ]
  },
  {
   "cell_type": "code",
   "execution_count": 43,
   "metadata": {
    "ExecuteTime": {
     "end_time": "2021-06-05T11:05:59.429071Z",
     "start_time": "2021-06-05T11:05:59.397068Z"
    }
   },
   "outputs": [],
   "source": [
    "# In this sprint, we will predict Arrival Delay based numerical variables 'CRS Departure Time', 'CRS Arrival Time', 'Departure Delay','DayOfWeek' and categorical variables 'Uniquecarrier' and 'Departure Airport'.\n",
    "DF.drop(['Date','Unnamed: 0','CRSElapsedTime','ActualElapsedTime','TaxiIn',\n",
    "       'TaxiOut'], axis='columns', inplace=True)"
   ]
  },
  {
   "cell_type": "code",
   "execution_count": 44,
   "metadata": {
    "ExecuteTime": {
     "end_time": "2021-06-05T11:06:00.148735Z",
     "start_time": "2021-06-05T11:06:00.079775Z"
    },
    "scrolled": false
   },
   "outputs": [
    {
     "data": {
      "text/html": [
       "<div>\n",
       "<style scoped>\n",
       "    .dataframe tbody tr th:only-of-type {\n",
       "        vertical-align: middle;\n",
       "    }\n",
       "\n",
       "    .dataframe tbody tr th {\n",
       "        vertical-align: top;\n",
       "    }\n",
       "\n",
       "    .dataframe thead th {\n",
       "        text-align: right;\n",
       "    }\n",
       "</style>\n",
       "<table border=\"1\" class=\"dataframe\">\n",
       "  <thead>\n",
       "    <tr style=\"text-align: right;\">\n",
       "      <th></th>\n",
       "      <th>DayOfWeek</th>\n",
       "      <th>CRSDepTime</th>\n",
       "      <th>CRSArrTime</th>\n",
       "      <th>ArrDelay</th>\n",
       "      <th>DepDelay</th>\n",
       "      <th>UniqueCarrier</th>\n",
       "      <th>Origin</th>\n",
       "      <th>Dest</th>\n",
       "      <th>LateArr</th>\n",
       "    </tr>\n",
       "  </thead>\n",
       "  <tbody>\n",
       "    <tr>\n",
       "      <th>942808</th>\n",
       "      <td>6</td>\n",
       "      <td>642</td>\n",
       "      <td>734</td>\n",
       "      <td>43.0</td>\n",
       "      <td>39.0</td>\n",
       "      <td>OO</td>\n",
       "      <td>TUS</td>\n",
       "      <td>LAX</td>\n",
       "      <td>1</td>\n",
       "    </tr>\n",
       "    <tr>\n",
       "      <th>1484347</th>\n",
       "      <td>1</td>\n",
       "      <td>1115</td>\n",
       "      <td>1185</td>\n",
       "      <td>1.0</td>\n",
       "      <td>9.0</td>\n",
       "      <td>MQ</td>\n",
       "      <td>MAF</td>\n",
       "      <td>DFW</td>\n",
       "      <td>1</td>\n",
       "    </tr>\n",
       "    <tr>\n",
       "      <th>1566787</th>\n",
       "      <td>6</td>\n",
       "      <td>975</td>\n",
       "      <td>1037</td>\n",
       "      <td>-1.0</td>\n",
       "      <td>9.0</td>\n",
       "      <td>US</td>\n",
       "      <td>CLT</td>\n",
       "      <td>ORD</td>\n",
       "      <td>0</td>\n",
       "    </tr>\n",
       "    <tr>\n",
       "      <th>1256237</th>\n",
       "      <td>2</td>\n",
       "      <td>1040</td>\n",
       "      <td>1160</td>\n",
       "      <td>57.0</td>\n",
       "      <td>28.0</td>\n",
       "      <td>DL</td>\n",
       "      <td>ATL</td>\n",
       "      <td>DCA</td>\n",
       "      <td>1</td>\n",
       "    </tr>\n",
       "    <tr>\n",
       "      <th>651063</th>\n",
       "      <td>5</td>\n",
       "      <td>1000</td>\n",
       "      <td>1037</td>\n",
       "      <td>8.0</td>\n",
       "      <td>13.0</td>\n",
       "      <td>EV</td>\n",
       "      <td>CVG</td>\n",
       "      <td>MEM</td>\n",
       "      <td>1</td>\n",
       "    </tr>\n",
       "  </tbody>\n",
       "</table>\n",
       "</div>"
      ],
      "text/plain": [
       "         DayOfWeek  CRSDepTime  CRSArrTime  ArrDelay  DepDelay UniqueCarrier  \\\n",
       "942808           6         642         734      43.0      39.0            OO   \n",
       "1484347          1        1115        1185       1.0       9.0            MQ   \n",
       "1566787          6         975        1037      -1.0       9.0            US   \n",
       "1256237          2        1040        1160      57.0      28.0            DL   \n",
       "651063           5        1000        1037       8.0      13.0            EV   \n",
       "\n",
       "        Origin Dest LateArr  \n",
       "942808     TUS  LAX       1  \n",
       "1484347    MAF  DFW       1  \n",
       "1566787    CLT  ORD       0  \n",
       "1256237    ATL  DCA       1  \n",
       "651063     CVG  MEM       1  "
      ]
     },
     "execution_count": 44,
     "metadata": {},
     "output_type": "execute_result"
    }
   ],
   "source": [
    "DF['LateArr'] = np.where(DF['ArrDelay'] > 0, '1', '0')\n",
    "DF.head()"
   ]
  },
  {
   "cell_type": "code",
   "execution_count": 45,
   "metadata": {
    "ExecuteTime": {
     "end_time": "2021-06-05T11:06:01.774715Z",
     "start_time": "2021-06-05T11:06:00.831935Z"
    },
    "scrolled": true
   },
   "outputs": [
    {
     "data": {
      "text/plain": [
       "(100000, 612)"
      ]
     },
     "execution_count": 45,
     "metadata": {},
     "output_type": "execute_result"
    }
   ],
   "source": [
    "#X_train - Encoding categorical variables 'UniqueCarrier', 'Origin'\n",
    "\n",
    "# Create dummy variables\n",
    "dummy_UniqueCarrier_type = pd.get_dummies(DF['UniqueCarrier'], prefix='UniqueCarrier', drop_first=True)\n",
    "dummy_Origin_type = pd.get_dummies(DF['Origin'], prefix='Origin', drop_first=True)\n",
    "dummy_Dest_type = pd.get_dummies(DF['Dest'], prefix='Dest', drop_first=True)\n",
    "\n",
    "# Drop unnecessary columns\n",
    "to_drop = ['UniqueCarrier','Origin', 'Dest']\n",
    "DF.drop(to_drop, axis=1, inplace=True)\n",
    "\n",
    "# Merge into a single data frame\n",
    "DF = pd.concat([DF, dummy_UniqueCarrier_type, dummy_Origin_type, dummy_Dest_type], axis=1)\n",
    "DF.shape"
   ]
  },
  {
   "cell_type": "code",
   "execution_count": 46,
   "metadata": {
    "ExecuteTime": {
     "end_time": "2021-06-05T11:06:01.993590Z",
     "start_time": "2021-06-05T11:06:01.779713Z"
    },
    "scrolled": true
   },
   "outputs": [
    {
     "name": "stdout",
     "output_type": "stream",
     "text": [
      "(100000, 610) (100000,)\n"
     ]
    }
   ],
   "source": [
    "X, y = DF.drop(['LateArr','ArrDelay'],axis=1), DF.LateArr\n",
    "print(X.shape, y.shape)"
   ]
  },
  {
   "cell_type": "code",
   "execution_count": 47,
   "metadata": {
    "ExecuteTime": {
     "end_time": "2021-06-05T11:06:03.327950Z",
     "start_time": "2021-06-05T11:06:02.579908Z"
    }
   },
   "outputs": [],
   "source": [
    "X_train, X_test, y_train, y_test = train_test_split(X, y, test_size=0.1, random_state=0)"
   ]
  },
  {
   "cell_type": "code",
   "execution_count": 48,
   "metadata": {
    "ExecuteTime": {
     "end_time": "2021-06-05T11:06:03.358910Z",
     "start_time": "2021-06-05T11:06:03.332928Z"
    }
   },
   "outputs": [
    {
     "data": {
      "text/plain": [
       "((90000, 610), (10000, 610), (90000,), (10000,))"
      ]
     },
     "execution_count": 48,
     "metadata": {},
     "output_type": "execute_result"
    }
   ],
   "source": [
    "X_train.shape, X_test.shape, y_train.shape, y_test.shape"
   ]
  },
  {
   "cell_type": "code",
   "execution_count": 49,
   "metadata": {
    "ExecuteTime": {
     "end_time": "2021-06-05T11:06:04.532315Z",
     "start_time": "2021-06-05T11:06:04.335023Z"
    }
   },
   "outputs": [],
   "source": [
    "from sklearn.preprocessing import StandardScaler\n",
    "\n",
    "# Scale selected columns by index\n",
    "# Set up scaler\n",
    "scaler = StandardScaler().fit(X_train.iloc[:,:4])\n",
    "X_train.iloc[:,:4] = scaler.transform(X_train.iloc[:,:4])\n",
    "X_train.head()\n",
    "#  Scale X_Test data\n",
    "X_test.iloc[:,:4] = scaler.transform(X_test.iloc[:,:4])"
   ]
  },
  {
   "cell_type": "code",
   "execution_count": 50,
   "metadata": {
    "ExecuteTime": {
     "end_time": "2021-06-05T11:06:05.065332Z",
     "start_time": "2021-06-05T11:06:05.009382Z"
    }
   },
   "outputs": [
    {
     "data": {
      "text/html": [
       "<div>\n",
       "<style scoped>\n",
       "    .dataframe tbody tr th:only-of-type {\n",
       "        vertical-align: middle;\n",
       "    }\n",
       "\n",
       "    .dataframe tbody tr th {\n",
       "        vertical-align: top;\n",
       "    }\n",
       "\n",
       "    .dataframe thead th {\n",
       "        text-align: right;\n",
       "    }\n",
       "</style>\n",
       "<table border=\"1\" class=\"dataframe\">\n",
       "  <thead>\n",
       "    <tr style=\"text-align: right;\">\n",
       "      <th></th>\n",
       "      <th>DayOfWeek</th>\n",
       "      <th>CRSDepTime</th>\n",
       "      <th>CRSArrTime</th>\n",
       "      <th>DepDelay</th>\n",
       "      <th>UniqueCarrier_AA</th>\n",
       "      <th>UniqueCarrier_AQ</th>\n",
       "      <th>UniqueCarrier_AS</th>\n",
       "      <th>UniqueCarrier_B6</th>\n",
       "      <th>UniqueCarrier_CO</th>\n",
       "      <th>UniqueCarrier_DL</th>\n",
       "      <th>...</th>\n",
       "      <th>Dest_TYR</th>\n",
       "      <th>Dest_TYS</th>\n",
       "      <th>Dest_VLD</th>\n",
       "      <th>Dest_VPS</th>\n",
       "      <th>Dest_WRG</th>\n",
       "      <th>Dest_WYS</th>\n",
       "      <th>Dest_XNA</th>\n",
       "      <th>Dest_YAK</th>\n",
       "      <th>Dest_YKM</th>\n",
       "      <th>Dest_YUM</th>\n",
       "    </tr>\n",
       "  </thead>\n",
       "  <tbody>\n",
       "    <tr>\n",
       "      <th>288500</th>\n",
       "      <td>-0.991092</td>\n",
       "      <td>-0.935857</td>\n",
       "      <td>-1.017833</td>\n",
       "      <td>0.596940</td>\n",
       "      <td>0</td>\n",
       "      <td>0</td>\n",
       "      <td>0</td>\n",
       "      <td>0</td>\n",
       "      <td>0</td>\n",
       "      <td>0</td>\n",
       "      <td>...</td>\n",
       "      <td>0</td>\n",
       "      <td>0</td>\n",
       "      <td>0</td>\n",
       "      <td>0</td>\n",
       "      <td>0</td>\n",
       "      <td>0</td>\n",
       "      <td>0</td>\n",
       "      <td>0</td>\n",
       "      <td>0</td>\n",
       "      <td>0</td>\n",
       "    </tr>\n",
       "    <tr>\n",
       "      <th>223838</th>\n",
       "      <td>-0.991092</td>\n",
       "      <td>0.952647</td>\n",
       "      <td>1.204786</td>\n",
       "      <td>-0.630251</td>\n",
       "      <td>0</td>\n",
       "      <td>0</td>\n",
       "      <td>0</td>\n",
       "      <td>0</td>\n",
       "      <td>0</td>\n",
       "      <td>0</td>\n",
       "      <td>...</td>\n",
       "      <td>0</td>\n",
       "      <td>0</td>\n",
       "      <td>0</td>\n",
       "      <td>0</td>\n",
       "      <td>0</td>\n",
       "      <td>0</td>\n",
       "      <td>0</td>\n",
       "      <td>0</td>\n",
       "      <td>0</td>\n",
       "      <td>0</td>\n",
       "    </tr>\n",
       "    <tr>\n",
       "      <th>340842</th>\n",
       "      <td>-0.490678</td>\n",
       "      <td>-1.569268</td>\n",
       "      <td>-1.579752</td>\n",
       "      <td>-0.099079</td>\n",
       "      <td>1</td>\n",
       "      <td>0</td>\n",
       "      <td>0</td>\n",
       "      <td>0</td>\n",
       "      <td>0</td>\n",
       "      <td>0</td>\n",
       "      <td>...</td>\n",
       "      <td>0</td>\n",
       "      <td>0</td>\n",
       "      <td>0</td>\n",
       "      <td>0</td>\n",
       "      <td>0</td>\n",
       "      <td>0</td>\n",
       "      <td>0</td>\n",
       "      <td>0</td>\n",
       "      <td>0</td>\n",
       "      <td>0</td>\n",
       "    </tr>\n",
       "    <tr>\n",
       "      <th>502626</th>\n",
       "      <td>0.510150</td>\n",
       "      <td>0.503003</td>\n",
       "      <td>0.299274</td>\n",
       "      <td>-0.190660</td>\n",
       "      <td>0</td>\n",
       "      <td>0</td>\n",
       "      <td>0</td>\n",
       "      <td>0</td>\n",
       "      <td>0</td>\n",
       "      <td>0</td>\n",
       "      <td>...</td>\n",
       "      <td>0</td>\n",
       "      <td>0</td>\n",
       "      <td>0</td>\n",
       "      <td>0</td>\n",
       "      <td>0</td>\n",
       "      <td>0</td>\n",
       "      <td>0</td>\n",
       "      <td>0</td>\n",
       "      <td>0</td>\n",
       "      <td>0</td>\n",
       "    </tr>\n",
       "    <tr>\n",
       "      <th>336769</th>\n",
       "      <td>0.009736</td>\n",
       "      <td>0.678950</td>\n",
       "      <td>0.496125</td>\n",
       "      <td>-0.099079</td>\n",
       "      <td>1</td>\n",
       "      <td>0</td>\n",
       "      <td>0</td>\n",
       "      <td>0</td>\n",
       "      <td>0</td>\n",
       "      <td>0</td>\n",
       "      <td>...</td>\n",
       "      <td>0</td>\n",
       "      <td>0</td>\n",
       "      <td>0</td>\n",
       "      <td>0</td>\n",
       "      <td>0</td>\n",
       "      <td>0</td>\n",
       "      <td>0</td>\n",
       "      <td>0</td>\n",
       "      <td>0</td>\n",
       "      <td>0</td>\n",
       "    </tr>\n",
       "  </tbody>\n",
       "</table>\n",
       "<p>5 rows × 610 columns</p>\n",
       "</div>"
      ],
      "text/plain": [
       "        DayOfWeek  CRSDepTime  CRSArrTime  DepDelay  UniqueCarrier_AA  \\\n",
       "288500  -0.991092   -0.935857   -1.017833  0.596940                 0   \n",
       "223838  -0.991092    0.952647    1.204786 -0.630251                 0   \n",
       "340842  -0.490678   -1.569268   -1.579752 -0.099079                 1   \n",
       "502626   0.510150    0.503003    0.299274 -0.190660                 0   \n",
       "336769   0.009736    0.678950    0.496125 -0.099079                 1   \n",
       "\n",
       "        UniqueCarrier_AQ  UniqueCarrier_AS  UniqueCarrier_B6  \\\n",
       "288500                 0                 0                 0   \n",
       "223838                 0                 0                 0   \n",
       "340842                 0                 0                 0   \n",
       "502626                 0                 0                 0   \n",
       "336769                 0                 0                 0   \n",
       "\n",
       "        UniqueCarrier_CO  UniqueCarrier_DL  ...  Dest_TYR  Dest_TYS  Dest_VLD  \\\n",
       "288500                 0                 0  ...         0         0         0   \n",
       "223838                 0                 0  ...         0         0         0   \n",
       "340842                 0                 0  ...         0         0         0   \n",
       "502626                 0                 0  ...         0         0         0   \n",
       "336769                 0                 0  ...         0         0         0   \n",
       "\n",
       "        Dest_VPS  Dest_WRG  Dest_WYS  Dest_XNA  Dest_YAK  Dest_YKM  Dest_YUM  \n",
       "288500         0         0         0         0         0         0         0  \n",
       "223838         0         0         0         0         0         0         0  \n",
       "340842         0         0         0         0         0         0         0  \n",
       "502626         0         0         0         0         0         0         0  \n",
       "336769         0         0         0         0         0         0         0  \n",
       "\n",
       "[5 rows x 610 columns]"
      ]
     },
     "execution_count": 50,
     "metadata": {},
     "output_type": "execute_result"
    }
   ],
   "source": [
    "X_train.head()"
   ]
  },
  {
   "cell_type": "markdown",
   "metadata": {},
   "source": [
    "<span style=color:green><b>DECISION TREE MODEL</span>"
   ]
  },
  {
   "cell_type": "code",
   "execution_count": 51,
   "metadata": {
    "ExecuteTime": {
     "end_time": "2021-06-05T11:06:23.004790Z",
     "start_time": "2021-06-05T11:06:06.594975Z"
    }
   },
   "outputs": [
    {
     "name": "stdout",
     "output_type": "stream",
     "text": [
      "Accuracy Decision Tree: 0.8635\n"
     ]
    }
   ],
   "source": [
    "model_dtc = dtc.fit(X_train,y_train)\n",
    "y_pred_dtc = model_dtc.predict(X_test)\n",
    "print(\"Accuracy Decision Tree:\",metrics.accuracy_score(y_test, y_pred_dtc))"
   ]
  },
  {
   "cell_type": "markdown",
   "metadata": {},
   "source": [
    "<span style=color:green>*Additional variable 'Airport Destination' improves accuracy. For on decision tree model, accuray improves from 85.6% to 86.3%*<span>"
   ]
  },
  {
   "cell_type": "markdown",
   "metadata": {},
   "source": [
    "# <span style=color:darkblue>Nivell 3</span>"
   ]
  },
  {
   "cell_type": "markdown",
   "metadata": {},
   "source": [
    "<u style=color:blue>Exercici 6:</u>\n",
    "\n",
    "<span style=color:blue>No utilitzis la variable DepDelay a l’hora de fer prediccions.<span>\n"
   ]
  },
  {
   "cell_type": "code",
   "execution_count": 59,
   "metadata": {
    "ExecuteTime": {
     "end_time": "2021-06-05T11:12:28.938240Z",
     "start_time": "2021-06-05T11:12:28.886978Z"
    }
   },
   "outputs": [
    {
     "data": {
      "text/html": [
       "<div>\n",
       "<style scoped>\n",
       "    .dataframe tbody tr th:only-of-type {\n",
       "        vertical-align: middle;\n",
       "    }\n",
       "\n",
       "    .dataframe tbody tr th {\n",
       "        vertical-align: top;\n",
       "    }\n",
       "\n",
       "    .dataframe thead th {\n",
       "        text-align: right;\n",
       "    }\n",
       "</style>\n",
       "<table border=\"1\" class=\"dataframe\">\n",
       "  <thead>\n",
       "    <tr style=\"text-align: right;\">\n",
       "      <th></th>\n",
       "      <th>DayOfWeek</th>\n",
       "      <th>CRSDepTime</th>\n",
       "      <th>CRSArrTime</th>\n",
       "      <th>ArrDelay</th>\n",
       "      <th>DepDelay</th>\n",
       "      <th>LateArr</th>\n",
       "      <th>UniqueCarrier_AA</th>\n",
       "      <th>UniqueCarrier_AQ</th>\n",
       "      <th>UniqueCarrier_AS</th>\n",
       "      <th>UniqueCarrier_B6</th>\n",
       "      <th>...</th>\n",
       "      <th>Dest_TYR</th>\n",
       "      <th>Dest_TYS</th>\n",
       "      <th>Dest_VLD</th>\n",
       "      <th>Dest_VPS</th>\n",
       "      <th>Dest_WRG</th>\n",
       "      <th>Dest_WYS</th>\n",
       "      <th>Dest_XNA</th>\n",
       "      <th>Dest_YAK</th>\n",
       "      <th>Dest_YKM</th>\n",
       "      <th>Dest_YUM</th>\n",
       "    </tr>\n",
       "  </thead>\n",
       "  <tbody>\n",
       "    <tr>\n",
       "      <th>942808</th>\n",
       "      <td>6</td>\n",
       "      <td>642</td>\n",
       "      <td>734</td>\n",
       "      <td>43.0</td>\n",
       "      <td>39.0</td>\n",
       "      <td>1</td>\n",
       "      <td>0</td>\n",
       "      <td>0</td>\n",
       "      <td>0</td>\n",
       "      <td>0</td>\n",
       "      <td>...</td>\n",
       "      <td>0</td>\n",
       "      <td>0</td>\n",
       "      <td>0</td>\n",
       "      <td>0</td>\n",
       "      <td>0</td>\n",
       "      <td>0</td>\n",
       "      <td>0</td>\n",
       "      <td>0</td>\n",
       "      <td>0</td>\n",
       "      <td>0</td>\n",
       "    </tr>\n",
       "    <tr>\n",
       "      <th>1484347</th>\n",
       "      <td>1</td>\n",
       "      <td>1115</td>\n",
       "      <td>1185</td>\n",
       "      <td>1.0</td>\n",
       "      <td>9.0</td>\n",
       "      <td>1</td>\n",
       "      <td>0</td>\n",
       "      <td>0</td>\n",
       "      <td>0</td>\n",
       "      <td>0</td>\n",
       "      <td>...</td>\n",
       "      <td>0</td>\n",
       "      <td>0</td>\n",
       "      <td>0</td>\n",
       "      <td>0</td>\n",
       "      <td>0</td>\n",
       "      <td>0</td>\n",
       "      <td>0</td>\n",
       "      <td>0</td>\n",
       "      <td>0</td>\n",
       "      <td>0</td>\n",
       "    </tr>\n",
       "    <tr>\n",
       "      <th>1566787</th>\n",
       "      <td>6</td>\n",
       "      <td>975</td>\n",
       "      <td>1037</td>\n",
       "      <td>-1.0</td>\n",
       "      <td>9.0</td>\n",
       "      <td>0</td>\n",
       "      <td>0</td>\n",
       "      <td>0</td>\n",
       "      <td>0</td>\n",
       "      <td>0</td>\n",
       "      <td>...</td>\n",
       "      <td>0</td>\n",
       "      <td>0</td>\n",
       "      <td>0</td>\n",
       "      <td>0</td>\n",
       "      <td>0</td>\n",
       "      <td>0</td>\n",
       "      <td>0</td>\n",
       "      <td>0</td>\n",
       "      <td>0</td>\n",
       "      <td>0</td>\n",
       "    </tr>\n",
       "    <tr>\n",
       "      <th>1256237</th>\n",
       "      <td>2</td>\n",
       "      <td>1040</td>\n",
       "      <td>1160</td>\n",
       "      <td>57.0</td>\n",
       "      <td>28.0</td>\n",
       "      <td>1</td>\n",
       "      <td>0</td>\n",
       "      <td>0</td>\n",
       "      <td>0</td>\n",
       "      <td>0</td>\n",
       "      <td>...</td>\n",
       "      <td>0</td>\n",
       "      <td>0</td>\n",
       "      <td>0</td>\n",
       "      <td>0</td>\n",
       "      <td>0</td>\n",
       "      <td>0</td>\n",
       "      <td>0</td>\n",
       "      <td>0</td>\n",
       "      <td>0</td>\n",
       "      <td>0</td>\n",
       "    </tr>\n",
       "    <tr>\n",
       "      <th>651063</th>\n",
       "      <td>5</td>\n",
       "      <td>1000</td>\n",
       "      <td>1037</td>\n",
       "      <td>8.0</td>\n",
       "      <td>13.0</td>\n",
       "      <td>1</td>\n",
       "      <td>0</td>\n",
       "      <td>0</td>\n",
       "      <td>0</td>\n",
       "      <td>0</td>\n",
       "      <td>...</td>\n",
       "      <td>0</td>\n",
       "      <td>0</td>\n",
       "      <td>0</td>\n",
       "      <td>0</td>\n",
       "      <td>0</td>\n",
       "      <td>0</td>\n",
       "      <td>0</td>\n",
       "      <td>0</td>\n",
       "      <td>0</td>\n",
       "      <td>0</td>\n",
       "    </tr>\n",
       "  </tbody>\n",
       "</table>\n",
       "<p>5 rows × 612 columns</p>\n",
       "</div>"
      ],
      "text/plain": [
       "         DayOfWeek  CRSDepTime  CRSArrTime  ArrDelay  DepDelay LateArr  \\\n",
       "942808           6         642         734      43.0      39.0       1   \n",
       "1484347          1        1115        1185       1.0       9.0       1   \n",
       "1566787          6         975        1037      -1.0       9.0       0   \n",
       "1256237          2        1040        1160      57.0      28.0       1   \n",
       "651063           5        1000        1037       8.0      13.0       1   \n",
       "\n",
       "         UniqueCarrier_AA  UniqueCarrier_AQ  UniqueCarrier_AS  \\\n",
       "942808                  0                 0                 0   \n",
       "1484347                 0                 0                 0   \n",
       "1566787                 0                 0                 0   \n",
       "1256237                 0                 0                 0   \n",
       "651063                  0                 0                 0   \n",
       "\n",
       "         UniqueCarrier_B6  ...  Dest_TYR  Dest_TYS  Dest_VLD  Dest_VPS  \\\n",
       "942808                  0  ...         0         0         0         0   \n",
       "1484347                 0  ...         0         0         0         0   \n",
       "1566787                 0  ...         0         0         0         0   \n",
       "1256237                 0  ...         0         0         0         0   \n",
       "651063                  0  ...         0         0         0         0   \n",
       "\n",
       "         Dest_WRG  Dest_WYS  Dest_XNA  Dest_YAK  Dest_YKM  Dest_YUM  \n",
       "942808          0         0         0         0         0         0  \n",
       "1484347         0         0         0         0         0         0  \n",
       "1566787         0         0         0         0         0         0  \n",
       "1256237         0         0         0         0         0         0  \n",
       "651063          0         0         0         0         0         0  \n",
       "\n",
       "[5 rows x 612 columns]"
      ]
     },
     "execution_count": 59,
     "metadata": {},
     "output_type": "execute_result"
    }
   ],
   "source": [
    "DF.head()"
   ]
  },
  {
   "cell_type": "code",
   "execution_count": 60,
   "metadata": {
    "ExecuteTime": {
     "end_time": "2021-06-05T11:12:30.618946Z",
     "start_time": "2021-06-05T11:12:30.502008Z"
    }
   },
   "outputs": [
    {
     "name": "stdout",
     "output_type": "stream",
     "text": [
      "(100000, 609) (100000,)\n"
     ]
    }
   ],
   "source": [
    "X, y = DF.drop(['DepDelay','ArrDelay','LateArr'],axis=1), DF.LateArr\n",
    "print(X.shape, y.shape)"
   ]
  },
  {
   "cell_type": "code",
   "execution_count": 61,
   "metadata": {
    "ExecuteTime": {
     "end_time": "2021-06-05T11:12:37.224979Z",
     "start_time": "2021-06-05T11:12:37.178000Z"
    }
   },
   "outputs": [
    {
     "data": {
      "text/html": [
       "<div>\n",
       "<style scoped>\n",
       "    .dataframe tbody tr th:only-of-type {\n",
       "        vertical-align: middle;\n",
       "    }\n",
       "\n",
       "    .dataframe tbody tr th {\n",
       "        vertical-align: top;\n",
       "    }\n",
       "\n",
       "    .dataframe thead th {\n",
       "        text-align: right;\n",
       "    }\n",
       "</style>\n",
       "<table border=\"1\" class=\"dataframe\">\n",
       "  <thead>\n",
       "    <tr style=\"text-align: right;\">\n",
       "      <th></th>\n",
       "      <th>DayOfWeek</th>\n",
       "      <th>CRSDepTime</th>\n",
       "      <th>CRSArrTime</th>\n",
       "      <th>UniqueCarrier_AA</th>\n",
       "      <th>UniqueCarrier_AQ</th>\n",
       "      <th>UniqueCarrier_AS</th>\n",
       "      <th>UniqueCarrier_B6</th>\n",
       "      <th>UniqueCarrier_CO</th>\n",
       "      <th>UniqueCarrier_DL</th>\n",
       "      <th>UniqueCarrier_EV</th>\n",
       "      <th>...</th>\n",
       "      <th>Dest_TYR</th>\n",
       "      <th>Dest_TYS</th>\n",
       "      <th>Dest_VLD</th>\n",
       "      <th>Dest_VPS</th>\n",
       "      <th>Dest_WRG</th>\n",
       "      <th>Dest_WYS</th>\n",
       "      <th>Dest_XNA</th>\n",
       "      <th>Dest_YAK</th>\n",
       "      <th>Dest_YKM</th>\n",
       "      <th>Dest_YUM</th>\n",
       "    </tr>\n",
       "  </thead>\n",
       "  <tbody>\n",
       "    <tr>\n",
       "      <th>942808</th>\n",
       "      <td>6</td>\n",
       "      <td>642</td>\n",
       "      <td>734</td>\n",
       "      <td>0</td>\n",
       "      <td>0</td>\n",
       "      <td>0</td>\n",
       "      <td>0</td>\n",
       "      <td>0</td>\n",
       "      <td>0</td>\n",
       "      <td>0</td>\n",
       "      <td>...</td>\n",
       "      <td>0</td>\n",
       "      <td>0</td>\n",
       "      <td>0</td>\n",
       "      <td>0</td>\n",
       "      <td>0</td>\n",
       "      <td>0</td>\n",
       "      <td>0</td>\n",
       "      <td>0</td>\n",
       "      <td>0</td>\n",
       "      <td>0</td>\n",
       "    </tr>\n",
       "    <tr>\n",
       "      <th>1484347</th>\n",
       "      <td>1</td>\n",
       "      <td>1115</td>\n",
       "      <td>1185</td>\n",
       "      <td>0</td>\n",
       "      <td>0</td>\n",
       "      <td>0</td>\n",
       "      <td>0</td>\n",
       "      <td>0</td>\n",
       "      <td>0</td>\n",
       "      <td>0</td>\n",
       "      <td>...</td>\n",
       "      <td>0</td>\n",
       "      <td>0</td>\n",
       "      <td>0</td>\n",
       "      <td>0</td>\n",
       "      <td>0</td>\n",
       "      <td>0</td>\n",
       "      <td>0</td>\n",
       "      <td>0</td>\n",
       "      <td>0</td>\n",
       "      <td>0</td>\n",
       "    </tr>\n",
       "    <tr>\n",
       "      <th>1566787</th>\n",
       "      <td>6</td>\n",
       "      <td>975</td>\n",
       "      <td>1037</td>\n",
       "      <td>0</td>\n",
       "      <td>0</td>\n",
       "      <td>0</td>\n",
       "      <td>0</td>\n",
       "      <td>0</td>\n",
       "      <td>0</td>\n",
       "      <td>0</td>\n",
       "      <td>...</td>\n",
       "      <td>0</td>\n",
       "      <td>0</td>\n",
       "      <td>0</td>\n",
       "      <td>0</td>\n",
       "      <td>0</td>\n",
       "      <td>0</td>\n",
       "      <td>0</td>\n",
       "      <td>0</td>\n",
       "      <td>0</td>\n",
       "      <td>0</td>\n",
       "    </tr>\n",
       "    <tr>\n",
       "      <th>1256237</th>\n",
       "      <td>2</td>\n",
       "      <td>1040</td>\n",
       "      <td>1160</td>\n",
       "      <td>0</td>\n",
       "      <td>0</td>\n",
       "      <td>0</td>\n",
       "      <td>0</td>\n",
       "      <td>0</td>\n",
       "      <td>1</td>\n",
       "      <td>0</td>\n",
       "      <td>...</td>\n",
       "      <td>0</td>\n",
       "      <td>0</td>\n",
       "      <td>0</td>\n",
       "      <td>0</td>\n",
       "      <td>0</td>\n",
       "      <td>0</td>\n",
       "      <td>0</td>\n",
       "      <td>0</td>\n",
       "      <td>0</td>\n",
       "      <td>0</td>\n",
       "    </tr>\n",
       "    <tr>\n",
       "      <th>651063</th>\n",
       "      <td>5</td>\n",
       "      <td>1000</td>\n",
       "      <td>1037</td>\n",
       "      <td>0</td>\n",
       "      <td>0</td>\n",
       "      <td>0</td>\n",
       "      <td>0</td>\n",
       "      <td>0</td>\n",
       "      <td>0</td>\n",
       "      <td>1</td>\n",
       "      <td>...</td>\n",
       "      <td>0</td>\n",
       "      <td>0</td>\n",
       "      <td>0</td>\n",
       "      <td>0</td>\n",
       "      <td>0</td>\n",
       "      <td>0</td>\n",
       "      <td>0</td>\n",
       "      <td>0</td>\n",
       "      <td>0</td>\n",
       "      <td>0</td>\n",
       "    </tr>\n",
       "  </tbody>\n",
       "</table>\n",
       "<p>5 rows × 609 columns</p>\n",
       "</div>"
      ],
      "text/plain": [
       "         DayOfWeek  CRSDepTime  CRSArrTime  UniqueCarrier_AA  \\\n",
       "942808           6         642         734                 0   \n",
       "1484347          1        1115        1185                 0   \n",
       "1566787          6         975        1037                 0   \n",
       "1256237          2        1040        1160                 0   \n",
       "651063           5        1000        1037                 0   \n",
       "\n",
       "         UniqueCarrier_AQ  UniqueCarrier_AS  UniqueCarrier_B6  \\\n",
       "942808                  0                 0                 0   \n",
       "1484347                 0                 0                 0   \n",
       "1566787                 0                 0                 0   \n",
       "1256237                 0                 0                 0   \n",
       "651063                  0                 0                 0   \n",
       "\n",
       "         UniqueCarrier_CO  UniqueCarrier_DL  UniqueCarrier_EV  ...  Dest_TYR  \\\n",
       "942808                  0                 0                 0  ...         0   \n",
       "1484347                 0                 0                 0  ...         0   \n",
       "1566787                 0                 0                 0  ...         0   \n",
       "1256237                 0                 1                 0  ...         0   \n",
       "651063                  0                 0                 1  ...         0   \n",
       "\n",
       "         Dest_TYS  Dest_VLD  Dest_VPS  Dest_WRG  Dest_WYS  Dest_XNA  Dest_YAK  \\\n",
       "942808          0         0         0         0         0         0         0   \n",
       "1484347         0         0         0         0         0         0         0   \n",
       "1566787         0         0         0         0         0         0         0   \n",
       "1256237         0         0         0         0         0         0         0   \n",
       "651063          0         0         0         0         0         0         0   \n",
       "\n",
       "         Dest_YKM  Dest_YUM  \n",
       "942808          0         0  \n",
       "1484347         0         0  \n",
       "1566787         0         0  \n",
       "1256237         0         0  \n",
       "651063          0         0  \n",
       "\n",
       "[5 rows x 609 columns]"
      ]
     },
     "execution_count": 61,
     "metadata": {},
     "output_type": "execute_result"
    }
   ],
   "source": [
    "X.head()"
   ]
  },
  {
   "cell_type": "code",
   "execution_count": 62,
   "metadata": {
    "ExecuteTime": {
     "end_time": "2021-06-05T11:12:38.997452Z",
     "start_time": "2021-06-05T11:12:38.303967Z"
    }
   },
   "outputs": [],
   "source": [
    "X_train, X_test, y_train, y_test = train_test_split(X, y, test_size=0.1, random_state=0)"
   ]
  },
  {
   "cell_type": "code",
   "execution_count": 63,
   "metadata": {
    "ExecuteTime": {
     "end_time": "2021-06-05T11:12:41.325964Z",
     "start_time": "2021-06-05T11:12:41.309952Z"
    }
   },
   "outputs": [
    {
     "data": {
      "text/plain": [
       "((90000, 609), (10000, 609), (90000,), (10000,))"
      ]
     },
     "execution_count": 63,
     "metadata": {},
     "output_type": "execute_result"
    }
   ],
   "source": [
    "X_train.shape, X_test.shape, y_train.shape, y_test.shape"
   ]
  },
  {
   "cell_type": "code",
   "execution_count": 64,
   "metadata": {
    "ExecuteTime": {
     "end_time": "2021-06-05T11:12:45.067082Z",
     "start_time": "2021-06-05T11:12:44.915961Z"
    }
   },
   "outputs": [],
   "source": [
    "from sklearn.preprocessing import StandardScaler\n",
    "\n",
    "# Scale selected columns by index\n",
    "# Set up scaler\n",
    "scaler = StandardScaler().fit(X_train.iloc[:,:3])\n",
    "X_train.iloc[:,:3] = scaler.transform(X_train.iloc[:,:3])\n",
    "X_train.head()\n",
    "#  Scale X_Test data\n",
    "X_test.iloc[:,:3] = scaler.transform(X_test.iloc[:,:3])"
   ]
  },
  {
   "cell_type": "code",
   "execution_count": 65,
   "metadata": {
    "ExecuteTime": {
     "end_time": "2021-06-05T11:12:47.588045Z",
     "start_time": "2021-06-05T11:12:47.545070Z"
    },
    "scrolled": false
   },
   "outputs": [
    {
     "data": {
      "text/html": [
       "<div>\n",
       "<style scoped>\n",
       "    .dataframe tbody tr th:only-of-type {\n",
       "        vertical-align: middle;\n",
       "    }\n",
       "\n",
       "    .dataframe tbody tr th {\n",
       "        vertical-align: top;\n",
       "    }\n",
       "\n",
       "    .dataframe thead th {\n",
       "        text-align: right;\n",
       "    }\n",
       "</style>\n",
       "<table border=\"1\" class=\"dataframe\">\n",
       "  <thead>\n",
       "    <tr style=\"text-align: right;\">\n",
       "      <th></th>\n",
       "      <th>DayOfWeek</th>\n",
       "      <th>CRSDepTime</th>\n",
       "      <th>CRSArrTime</th>\n",
       "      <th>UniqueCarrier_AA</th>\n",
       "      <th>UniqueCarrier_AQ</th>\n",
       "      <th>UniqueCarrier_AS</th>\n",
       "      <th>UniqueCarrier_B6</th>\n",
       "      <th>UniqueCarrier_CO</th>\n",
       "      <th>UniqueCarrier_DL</th>\n",
       "      <th>UniqueCarrier_EV</th>\n",
       "      <th>...</th>\n",
       "      <th>Dest_TYR</th>\n",
       "      <th>Dest_TYS</th>\n",
       "      <th>Dest_VLD</th>\n",
       "      <th>Dest_VPS</th>\n",
       "      <th>Dest_WRG</th>\n",
       "      <th>Dest_WYS</th>\n",
       "      <th>Dest_XNA</th>\n",
       "      <th>Dest_YAK</th>\n",
       "      <th>Dest_YKM</th>\n",
       "      <th>Dest_YUM</th>\n",
       "    </tr>\n",
       "  </thead>\n",
       "  <tbody>\n",
       "    <tr>\n",
       "      <th>288500</th>\n",
       "      <td>-0.991092</td>\n",
       "      <td>-0.935857</td>\n",
       "      <td>-1.017833</td>\n",
       "      <td>0</td>\n",
       "      <td>0</td>\n",
       "      <td>0</td>\n",
       "      <td>0</td>\n",
       "      <td>0</td>\n",
       "      <td>0</td>\n",
       "      <td>1</td>\n",
       "      <td>...</td>\n",
       "      <td>0</td>\n",
       "      <td>0</td>\n",
       "      <td>0</td>\n",
       "      <td>0</td>\n",
       "      <td>0</td>\n",
       "      <td>0</td>\n",
       "      <td>0</td>\n",
       "      <td>0</td>\n",
       "      <td>0</td>\n",
       "      <td>0</td>\n",
       "    </tr>\n",
       "    <tr>\n",
       "      <th>223838</th>\n",
       "      <td>-0.991092</td>\n",
       "      <td>0.952647</td>\n",
       "      <td>1.204786</td>\n",
       "      <td>0</td>\n",
       "      <td>0</td>\n",
       "      <td>0</td>\n",
       "      <td>0</td>\n",
       "      <td>0</td>\n",
       "      <td>0</td>\n",
       "      <td>0</td>\n",
       "      <td>...</td>\n",
       "      <td>0</td>\n",
       "      <td>0</td>\n",
       "      <td>0</td>\n",
       "      <td>0</td>\n",
       "      <td>0</td>\n",
       "      <td>0</td>\n",
       "      <td>0</td>\n",
       "      <td>0</td>\n",
       "      <td>0</td>\n",
       "      <td>0</td>\n",
       "    </tr>\n",
       "    <tr>\n",
       "      <th>340842</th>\n",
       "      <td>-0.490678</td>\n",
       "      <td>-1.569268</td>\n",
       "      <td>-1.579752</td>\n",
       "      <td>1</td>\n",
       "      <td>0</td>\n",
       "      <td>0</td>\n",
       "      <td>0</td>\n",
       "      <td>0</td>\n",
       "      <td>0</td>\n",
       "      <td>0</td>\n",
       "      <td>...</td>\n",
       "      <td>0</td>\n",
       "      <td>0</td>\n",
       "      <td>0</td>\n",
       "      <td>0</td>\n",
       "      <td>0</td>\n",
       "      <td>0</td>\n",
       "      <td>0</td>\n",
       "      <td>0</td>\n",
       "      <td>0</td>\n",
       "      <td>0</td>\n",
       "    </tr>\n",
       "    <tr>\n",
       "      <th>502626</th>\n",
       "      <td>0.510150</td>\n",
       "      <td>0.503003</td>\n",
       "      <td>0.299274</td>\n",
       "      <td>0</td>\n",
       "      <td>0</td>\n",
       "      <td>0</td>\n",
       "      <td>0</td>\n",
       "      <td>0</td>\n",
       "      <td>0</td>\n",
       "      <td>0</td>\n",
       "      <td>...</td>\n",
       "      <td>0</td>\n",
       "      <td>0</td>\n",
       "      <td>0</td>\n",
       "      <td>0</td>\n",
       "      <td>0</td>\n",
       "      <td>0</td>\n",
       "      <td>0</td>\n",
       "      <td>0</td>\n",
       "      <td>0</td>\n",
       "      <td>0</td>\n",
       "    </tr>\n",
       "    <tr>\n",
       "      <th>336769</th>\n",
       "      <td>0.009736</td>\n",
       "      <td>0.678950</td>\n",
       "      <td>0.496125</td>\n",
       "      <td>1</td>\n",
       "      <td>0</td>\n",
       "      <td>0</td>\n",
       "      <td>0</td>\n",
       "      <td>0</td>\n",
       "      <td>0</td>\n",
       "      <td>0</td>\n",
       "      <td>...</td>\n",
       "      <td>0</td>\n",
       "      <td>0</td>\n",
       "      <td>0</td>\n",
       "      <td>0</td>\n",
       "      <td>0</td>\n",
       "      <td>0</td>\n",
       "      <td>0</td>\n",
       "      <td>0</td>\n",
       "      <td>0</td>\n",
       "      <td>0</td>\n",
       "    </tr>\n",
       "  </tbody>\n",
       "</table>\n",
       "<p>5 rows × 609 columns</p>\n",
       "</div>"
      ],
      "text/plain": [
       "        DayOfWeek  CRSDepTime  CRSArrTime  UniqueCarrier_AA  UniqueCarrier_AQ  \\\n",
       "288500  -0.991092   -0.935857   -1.017833                 0                 0   \n",
       "223838  -0.991092    0.952647    1.204786                 0                 0   \n",
       "340842  -0.490678   -1.569268   -1.579752                 1                 0   \n",
       "502626   0.510150    0.503003    0.299274                 0                 0   \n",
       "336769   0.009736    0.678950    0.496125                 1                 0   \n",
       "\n",
       "        UniqueCarrier_AS  UniqueCarrier_B6  UniqueCarrier_CO  \\\n",
       "288500                 0                 0                 0   \n",
       "223838                 0                 0                 0   \n",
       "340842                 0                 0                 0   \n",
       "502626                 0                 0                 0   \n",
       "336769                 0                 0                 0   \n",
       "\n",
       "        UniqueCarrier_DL  UniqueCarrier_EV  ...  Dest_TYR  Dest_TYS  Dest_VLD  \\\n",
       "288500                 0                 1  ...         0         0         0   \n",
       "223838                 0                 0  ...         0         0         0   \n",
       "340842                 0                 0  ...         0         0         0   \n",
       "502626                 0                 0  ...         0         0         0   \n",
       "336769                 0                 0  ...         0         0         0   \n",
       "\n",
       "        Dest_VPS  Dest_WRG  Dest_WYS  Dest_XNA  Dest_YAK  Dest_YKM  Dest_YUM  \n",
       "288500         0         0         0         0         0         0         0  \n",
       "223838         0         0         0         0         0         0         0  \n",
       "340842         0         0         0         0         0         0         0  \n",
       "502626         0         0         0         0         0         0         0  \n",
       "336769         0         0         0         0         0         0         0  \n",
       "\n",
       "[5 rows x 609 columns]"
      ]
     },
     "execution_count": 65,
     "metadata": {},
     "output_type": "execute_result"
    }
   ],
   "source": [
    "X_train.head()"
   ]
  },
  {
   "cell_type": "markdown",
   "metadata": {},
   "source": [
    "<span style=color:green><b>DECISION TREE MODEL</span>"
   ]
  },
  {
   "cell_type": "code",
   "execution_count": 66,
   "metadata": {
    "ExecuteTime": {
     "end_time": "2021-06-05T11:13:22.626647Z",
     "start_time": "2021-06-05T11:13:00.446940Z"
    }
   },
   "outputs": [
    {
     "name": "stdout",
     "output_type": "stream",
     "text": [
      "Accuracy Decision Tree: 0.818\n"
     ]
    }
   ],
   "source": [
    "model_dtc = dtc.fit(X_train,y_train)\n",
    "y_pred_dtc = model_dtc.predict(X_test)\n",
    "print(\"Accuracy Decision Tree:\",metrics.accuracy_score(y_test, y_pred_dtc))"
   ]
  },
  {
   "cell_type": "markdown",
   "metadata": {},
   "source": [
    "<span style=color:green>*Accuracy drops but still remains good since categorical variables 'airport'and 'carrier' have big impact on Arrival delay*<span>"
   ]
  },
  {
   "cell_type": "code",
   "execution_count": null,
   "metadata": {},
   "outputs": [],
   "source": []
  }
 ],
 "metadata": {
  "kernelspec": {
   "display_name": "Python 3",
   "language": "python",
   "name": "python3"
  },
  "language_info": {
   "codemirror_mode": {
    "name": "ipython",
    "version": 3
   },
   "file_extension": ".py",
   "mimetype": "text/x-python",
   "name": "python",
   "nbconvert_exporter": "python",
   "pygments_lexer": "ipython3",
   "version": "3.8.5"
  },
  "toc": {
   "base_numbering": 1,
   "nav_menu": {},
   "number_sections": true,
   "sideBar": true,
   "skip_h1_title": false,
   "title_cell": "Table of Contents",
   "title_sidebar": "Contents",
   "toc_cell": false,
   "toc_position": {},
   "toc_section_display": true,
   "toc_window_display": false
  }
 },
 "nbformat": 4,
 "nbformat_minor": 4
}
